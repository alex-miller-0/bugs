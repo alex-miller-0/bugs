{
 "cells": [
  {
   "cell_type": "code",
   "execution_count": 73,
   "metadata": {
    "collapsed": true
   },
   "outputs": [],
   "source": [
    "from __future__ import division\n",
    "import requests\n",
    "import collections\n",
    "import json\n",
    "import psycopg2\n",
    "import time"
   ]
  },
  {
   "cell_type": "code",
   "execution_count": 65,
   "metadata": {
    "collapsed": false
   },
   "outputs": [],
   "source": [
    "def get_next_n(conn, limit=0, offset=0):\n",
    "    cur = conn.cursor()\n",
    "    cur.execute(\"SET TIME ZONE 'UTC';\")\n",
    "    \n",
    "    query = \"\"\"\n",
    "            SELECT id\n",
    "            FROM reports\n",
    "            ORDER BY id ASC\n",
    "            LIMIT {}\n",
    "            OFFSET {}\n",
    "            \"\"\".format(limit, offset)\n",
    "    cur_report = conn.cursor()    \n",
    "    cur_report.execute(query)\n",
    "    \n",
    "    i = 0\n",
    "    for bug in cur_report:\n",
    "        bug_id = str(bug[0])\n",
    "        #format to https://bugzilla.mozilla.org/rest/bug/707428/comment\n",
    "        website = 'https://bugzilla.mozilla.org/rest/bug/{}/comment'.format(bug_id)\n",
    "        #json_content = bson.json_util.loads(requests.get(website).content)\n",
    "        json_content = json.JSONDecoder().decode(requests.get(website).content)\n",
    "        bug_date = json_content['bugs'][bug_id]['comments'][0]['creation_time']\n",
    "        bug_desc = json_content['bugs'][bug_id]['comments'][0]['raw_text']\n",
    "\n",
    "        #cur.execute(\"INSERT INTO foo VALUES (%s)\", [\"bar\"])\n",
    "        cur.execute(\n",
    "            \"\"\"\n",
    "            INSERT INTO descriptions\n",
    "            VALUES (%s, to_timestamp(%s, 'YYYY-MM-DD HH24:MI:SS') - interval '9 h', %s)\n",
    "            \"\"\", \n",
    "            [bug_id, bug_date, bug_desc]\n",
    "        )\n",
    "        \n",
    "        i += 1\n",
    "        if i % 100 == 0:\n",
    "            print \"inserted {} rows\".format(i)\n",
    "    \n",
    "    conn.commit()"
   ]
  },
  {
   "cell_type": "code",
   "execution_count": 74,
   "metadata": {
    "collapsed": false
   },
   "outputs": [],
   "source": [
    "try:\n",
    "    conn = psycopg2.connect(\"dbname='bugs' user='lucka' host='localhost'\")\n",
    "except:\n",
    "    print \"Unable to connect to the database\"\n",
    "    \n",
    "cur = conn.cursor()\n",
    "cur.execute(\"\"\"\n",
    "    CREATE TABLE IF NOT EXISTS descriptions (\n",
    "    id            bigint NOT NULL,\n",
    "    when_created  timestamp,\n",
    "    descr         text\n",
    "    );\n",
    "\"\"\")\n",
    "conn.commit()\n",
    "\n",
    "for offset in xrange(0, 100000, 5000):\n",
    "    get_next_n(conn, limit=5000, offset=offset)\n",
    "    time.sleep(1)\n",
    "\n",
    "conn.close()"
   ]
  },
  {
   "cell_type": "code",
   "execution_count": null,
   "metadata": {
    "collapsed": true
   },
   "outputs": [],
   "source": []
  }
 ],
 "metadata": {
  "kernelspec": {
   "display_name": "Python 2",
   "language": "python",
   "name": "python2"
  },
  "language_info": {
   "codemirror_mode": {
    "name": "ipython",
    "version": 2
   },
   "file_extension": ".py",
   "mimetype": "text/x-python",
   "name": "python",
   "nbconvert_exporter": "python",
   "pygments_lexer": "ipython2",
   "version": "2.7.12"
  }
 },
 "nbformat": 4,
 "nbformat_minor": 0
}
