{
 "cells": [
  {
   "cell_type": "markdown",
   "metadata": {},
   "source": [
    "## Model Duration Using Features"
   ]
  },
  {
   "cell_type": "code",
   "execution_count": 264,
   "metadata": {
    "collapsed": true
   },
   "outputs": [],
   "source": [
    "from __future__ import division\n",
    "import pandas as pd\n",
    "import numpy as np\n",
    "from sklearn.cross_validation import train_test_split\n",
    "import sklearn.metrics\n",
    "import scipy\n",
    "from collections import Counter\n",
    "from sklearn.naive_bayes import MultinomialNB\n",
    "from sklearn.ensemble import RandomForestClassifier\n",
    "from sklearn.ensemble import GradientBoostingClassifier\n",
    "from sklearn.ensemble import RandomForestRegressor\n",
    "from sklearn.feature_extraction.text import CountVectorizer\n",
    "import warnings\n",
    "\n",
    "warnings.filterwarnings('ignore') #do not display warnings (SettingWithCopyWarning etc.)\n",
    "\n",
    "%matplotlib inline"
   ]
  },
  {
   "cell_type": "code",
   "execution_count": 301,
   "metadata": {
    "collapsed": false
   },
   "outputs": [],
   "source": [
    "df = pd.read_pickle('../data/df.pkl')"
   ]
  },
  {
   "cell_type": "code",
   "execution_count": 280,
   "metadata": {
    "collapsed": false
   },
   "outputs": [],
   "source": [
    "df_fixed = df[df['resolution_final'] == 'fixed']\n",
    "df_fixed.drop(['resolution_final'], axis=1, inplace=True)"
   ]
  },
  {
   "cell_type": "code",
   "execution_count": 281,
   "metadata": {
    "collapsed": false
   },
   "outputs": [
    {
     "data": {
      "text/plain": [
       "0    25791\n",
       "4    21991\n",
       "3    21872\n",
       "2    20664\n",
       "1    19825\n",
       "Name: duration_bin, dtype: int64"
      ]
     },
     "execution_count": 281,
     "metadata": {},
     "output_type": "execute_result"
    }
   ],
   "source": [
    "df_fixed['duration_bin'] = pd.qcut(df_fixed['duration_days'], 5, labels=[0,1,2,3,4])\n",
    "df_fixed.drop(['resolution_final'], axis=1, inplace=True)\n",
    "df_fixed['duration_bin'].value_counts()\n"
   ]
  },
  {
   "cell_type": "code",
   "execution_count": 283,
   "metadata": {
    "collapsed": false
   },
   "outputs": [],
   "source": [
    "#df_fixed.columns"
   ]
  },
  {
   "cell_type": "code",
   "execution_count": 284,
   "metadata": {
    "collapsed": false
   },
   "outputs": [
    {
     "data": {
      "text/plain": [
       "(110143, 42)"
      ]
     },
     "execution_count": 284,
     "metadata": {},
     "output_type": "execute_result"
    }
   ],
   "source": [
    "df_fixed.head(1).T\n",
    "df_fixed.shape"
   ]
  },
  {
   "cell_type": "code",
   "execution_count": 285,
   "metadata": {
    "collapsed": false
   },
   "outputs": [],
   "source": [
    "component_value_cnts = df_fixed['component_init'].value_counts()\n",
    "df_fixed['component_init'] = df_fixed['component_init'].map(lambda x: x if component_value_cnts[x] > 100 else 'unimportant')"
   ]
  },
  {
   "cell_type": "markdown",
   "metadata": {},
   "source": [
    "Train test split"
   ]
  },
  {
   "cell_type": "code",
   "execution_count": 286,
   "metadata": {
    "collapsed": false
   },
   "outputs": [],
   "source": [
    "y_all = df_fixed['duration_bin'] #classifier\n",
    "X_all = df_fixed\n",
    "X_all.drop(['duration_bin'], axis=1, inplace=True)\n",
    "\n",
    "X, X_test, y, y_test = train_test_split(X_all, y_all, test_size=0.25, random_state=42)"
   ]
  },
  {
   "cell_type": "code",
   "execution_count": 287,
   "metadata": {
    "collapsed": false
   },
   "outputs": [
    {
     "name": "stdout",
     "output_type": "stream",
     "text": [
      "Majority is 23.3200576222% cases in train\n",
      "Majority is 23.703515398% cases in test\n"
     ]
    }
   ],
   "source": [
    "print 'Majority is {}% cases in train'.format(y.value_counts().max() * 100 / y.value_counts().sum())\n",
    "print 'Majority is {}% cases in test'.format(y_test.value_counts().max() * 100 / y_test.value_counts().sum())"
   ]
  },
  {
   "cell_type": "code",
   "execution_count": 288,
   "metadata": {
    "collapsed": false
   },
   "outputs": [],
   "source": [
    "cnt_vectorizer = CountVectorizer()\n",
    "\n",
    "opsys = cnt_vectorizer.fit_transform(X.pop('op_sys_init'))\n",
    "X = pd.concat([X.reset_index(drop=True), pd.DataFrame(opsys.toarray()).reset_index(drop=True)], axis=1, join='inner')\n",
    "\n",
    "opsys_test = cnt_vectorizer.transform(X_test.pop('op_sys_init'))\n",
    "X_test = pd.concat([X_test.reset_index(drop=True), \n",
    "                    pd.DataFrame(opsys_test.toarray()).reset_index(drop=True)], axis=1, join='inner')"
   ]
  },
  {
   "cell_type": "code",
   "execution_count": 289,
   "metadata": {
    "collapsed": false
   },
   "outputs": [],
   "source": [
    "component = cnt_vectorizer.fit_transform(X.pop('component_init'))\n",
    "X = pd.concat([X.reset_index(drop=True), \n",
    "               pd.DataFrame(component.toarray(),\n",
    "                            columns=['component_' + str(x) for x in xrange(component.shape[1])]).reset_index(drop=True)], \n",
    "              axis=1, join='inner')\n",
    "\n",
    "component_test = cnt_vectorizer.transform(X_test.pop('component_init'))\n",
    "X_test = pd.concat([X_test.reset_index(drop=True), \n",
    "                   pd.DataFrame(component_test.toarray(), \n",
    "                                columns=['component_' + str(x) for x in xrange(component_test.shape[1])]).reset_index(drop=True)], \n",
    "                    axis=1, join='inner')"
   ]
  },
  {
   "cell_type": "code",
   "execution_count": 290,
   "metadata": {
    "collapsed": false
   },
   "outputs": [
    {
     "name": "stdout",
     "output_type": "stream",
     "text": [
      "(82607, 285) (82607, 47) (82607, 199)\n"
     ]
    }
   ],
   "source": [
    "print X.shape, opsys.shape, component.shape"
   ]
  },
  {
   "cell_type": "markdown",
   "metadata": {},
   "source": [
    "### Multinomial NB Classifier"
   ]
  },
  {
   "cell_type": "code",
   "execution_count": 291,
   "metadata": {
    "collapsed": true
   },
   "outputs": [],
   "source": [
    "nb_model = MultinomialNB()"
   ]
  },
  {
   "cell_type": "code",
   "execution_count": 292,
   "metadata": {
    "collapsed": false
   },
   "outputs": [
    {
     "data": {
      "text/plain": [
       "MultinomialNB(alpha=1.0, class_prior=None, fit_prior=True)"
      ]
     },
     "execution_count": 292,
     "metadata": {},
     "output_type": "execute_result"
    }
   ],
   "source": [
    "nb_model.fit(X, y)"
   ]
  },
  {
   "cell_type": "code",
   "execution_count": 293,
   "metadata": {
    "collapsed": false
   },
   "outputs": [
    {
     "name": "stdout",
     "output_type": "stream",
     "text": [
      "accuracy: 0.263509587449\n",
      "precision: 0.235297981457\n",
      "recall: 0.263509587449\n",
      "\n",
      "confusion matrix: \n",
      " [[2955   78  168  326 3000]\n",
      " [1911   65  147  234 2557]\n",
      " [1660   72  152  239 2982]\n",
      " [1478   74  150  240 3542]\n",
      " [1323   51  121  167 3844]]\n"
     ]
    }
   ],
   "source": [
    "y_pred = nb_model.predict(X_test)\n",
    "\n",
    "print 'accuracy: {}'.format(sklearn.metrics.accuracy_score(y_test, y_pred))\n",
    "print 'precision: {}'.format(sklearn.metrics.precision_score(y_test, y_pred))\n",
    "print 'recall: {}'.format(sklearn.metrics.recall_score(y_test, y_pred))\n",
    "print ''\n",
    "print 'confusion matrix: \\n {}'.format(sklearn.metrics.confusion_matrix(y_test, y_pred))"
   ]
  },
  {
   "cell_type": "markdown",
   "metadata": {},
   "source": [
    "### Random Forest Classifier"
   ]
  },
  {
   "cell_type": "code",
   "execution_count": 294,
   "metadata": {
    "collapsed": false
   },
   "outputs": [],
   "source": [
    "rf_model = RandomForestClassifier(n_estimators=20, criterion='gini', \n",
    "                               max_depth=3, max_features='auto', \n",
    "                               bootstrap=True, oob_score=True,\n",
    "                               random_state=None, warm_start=False)"
   ]
  },
  {
   "cell_type": "code",
   "execution_count": 295,
   "metadata": {
    "collapsed": false
   },
   "outputs": [
    {
     "data": {
      "text/plain": [
       "RandomForestClassifier(bootstrap=True, class_weight=None, criterion='gini',\n",
       "            max_depth=3, max_features='auto', max_leaf_nodes=None,\n",
       "            min_samples_leaf=1, min_samples_split=2,\n",
       "            min_weight_fraction_leaf=0.0, n_estimators=20, n_jobs=1,\n",
       "            oob_score=True, random_state=None, verbose=0, warm_start=False)"
      ]
     },
     "execution_count": 295,
     "metadata": {},
     "output_type": "execute_result"
    }
   ],
   "source": [
    "rf_model.fit(X,y)"
   ]
  },
  {
   "cell_type": "code",
   "execution_count": 296,
   "metadata": {
    "collapsed": false
   },
   "outputs": [
    {
     "name": "stdout",
     "output_type": "stream",
     "text": [
      "oob score: 0.272301378818\n",
      "\n",
      "accuracy: 0.277200755375\n",
      "precision: 0.213893651662\n",
      "recall: 0.277200755375\n",
      "\n",
      "confusion matrix: \n",
      " [[5659    0    2    1  865]\n",
      " [4097    0    0    2  815]\n",
      " [4072    0    1    4 1028]\n",
      " [4124    0    0    3 1357]\n",
      " [3530    0    1    5 1970]]\n"
     ]
    }
   ],
   "source": [
    "y_pred = rf_model.predict(X_test)\n",
    "\n",
    "#print 'feature importances: {}'.format(rf_model.feature_importances_)\n",
    "print 'oob score: {}'.format(rf_model.oob_score_)\n",
    "print ''\n",
    "print 'accuracy: {}'.format(sklearn.metrics.accuracy_score(y_test, y_pred))\n",
    "print 'precision: {}'.format(sklearn.metrics.precision_score(y_test, y_pred))\n",
    "print 'recall: {}'.format(sklearn.metrics.recall_score(y_test, y_pred))\n",
    "print ''\n",
    "print 'confusion matrix: \\n {}'.format(sklearn.metrics.confusion_matrix(y_test, y_pred))"
   ]
  },
  {
   "cell_type": "markdown",
   "metadata": {},
   "source": [
    "### Gradient Boost Classifier"
   ]
  },
  {
   "cell_type": "code",
   "execution_count": 297,
   "metadata": {
    "collapsed": true
   },
   "outputs": [],
   "source": [
    "gb_model = GradientBoostingClassifier(loss='deviance', learning_rate=0.1, \n",
    "                                   n_estimators=100, subsample=1.0,\n",
    "                                   max_depth=3, init=None, \n",
    "                                   random_state=None, max_features=None, \n",
    "                                   verbose=0, max_leaf_nodes=None, warm_start=False)"
   ]
  },
  {
   "cell_type": "code",
   "execution_count": 298,
   "metadata": {
    "collapsed": false
   },
   "outputs": [
    {
     "data": {
      "text/plain": [
       "GradientBoostingClassifier(init=None, learning_rate=0.1, loss='deviance',\n",
       "              max_depth=3, max_features=None, max_leaf_nodes=None,\n",
       "              min_samples_leaf=1, min_samples_split=2,\n",
       "              min_weight_fraction_leaf=0.0, n_estimators=100,\n",
       "              presort='auto', random_state=None, subsample=1.0, verbose=0,\n",
       "              warm_start=False)"
      ]
     },
     "execution_count": 298,
     "metadata": {},
     "output_type": "execute_result"
    }
   ],
   "source": [
    "gb_model.fit(X,y)"
   ]
  },
  {
   "cell_type": "code",
   "execution_count": 299,
   "metadata": {
    "collapsed": false
   },
   "outputs": [
    {
     "name": "stdout",
     "output_type": "stream",
     "text": [
      "\n",
      "accuracy: 0.31188262638\n",
      "precision: 0.278834942821\n",
      "recall: 0.31188262638\n",
      "\n",
      "confusion matrix: \n",
      " [[4140  225  131  879 1152]\n",
      " [2535  223  151  896 1109]\n",
      " [2253  214  159 1113 1366]\n",
      " [2011  180  186 1351 1756]\n",
      " [1490  107  102 1092 2715]]\n"
     ]
    }
   ],
   "source": [
    "y_pred = gb_model.predict(X_test)\n",
    "\n",
    "#print 'feature importances: {}'.format(gb_model.feature_importances_)\n",
    "print ''\n",
    "print 'accuracy: {}'.format(sklearn.metrics.accuracy_score(y_test, y_pred))\n",
    "print 'precision: {}'.format(sklearn.metrics.precision_score(y_test, y_pred))\n",
    "print 'recall: {}'.format(sklearn.metrics.recall_score(y_test, y_pred))\n",
    "print ''\n",
    "print 'confusion matrix: \\n {}'.format(sklearn.metrics.confusion_matrix(y_test, y_pred))"
   ]
  },
  {
   "cell_type": "code",
   "execution_count": null,
   "metadata": {
    "collapsed": true
   },
   "outputs": [],
   "source": []
  }
 ],
 "metadata": {
  "kernelspec": {
   "display_name": "Python 2",
   "language": "python",
   "name": "python2"
  },
  "language_info": {
   "codemirror_mode": {
    "name": "ipython",
    "version": 2
   },
   "file_extension": ".py",
   "mimetype": "text/x-python",
   "name": "python",
   "nbconvert_exporter": "python",
   "pygments_lexer": "ipython2",
   "version": "2.7.12"
  }
 },
 "nbformat": 4,
 "nbformat_minor": 0
}
