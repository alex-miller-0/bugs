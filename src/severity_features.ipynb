{
 "cells": [
  {
   "cell_type": "markdown",
   "metadata": {},
   "source": [
    "## Model Severity Using Features"
   ]
  },
  {
   "cell_type": "code",
   "execution_count": 1,
   "metadata": {
    "collapsed": true
   },
   "outputs": [],
   "source": [
    "from __future__ import division\n",
    "import pandas as pd\n",
    "import numpy as np\n",
    "from sklearn.cross_validation import train_test_split\n",
    "import sklearn.metrics\n",
    "import scipy\n",
    "from collections import Counter\n",
    "from sklearn.naive_bayes import MultinomialNB\n",
    "from sklearn.ensemble import RandomForestClassifier\n",
    "from sklearn.ensemble import GradientBoostingClassifier\n",
    "from sklearn.ensemble import RandomForestRegressor\n",
    "from sklearn.feature_extraction.text import CountVectorizer\n",
    "import warnings\n",
    "\n",
    "warnings.filterwarnings('ignore') #do not display warnings (SettingWithCopyWarning etc.)\n",
    "\n",
    "%matplotlib inline"
   ]
  },
  {
   "cell_type": "code",
   "execution_count": 13,
   "metadata": {
    "collapsed": false
   },
   "outputs": [],
   "source": [
    "df = pd.read_pickle('../data/df_severity.pkl')"
   ]
  },
  {
   "cell_type": "code",
   "execution_count": 44,
   "metadata": {
    "collapsed": false
   },
   "outputs": [],
   "source": [
    "df_fixed = df[df['severity_final'] != 'enhancement']\n",
    "df_fixed = df_fixed[df_fixed['severity_final'] != 'normal']"
   ]
  },
  {
   "cell_type": "code",
   "execution_count": 45,
   "metadata": {
    "collapsed": false
   },
   "outputs": [
    {
     "data": {
      "text/plain": [
       "critical    35128\n",
       "major       35034\n",
       "minor       17764\n",
       "trivial      7397\n",
       "blocker      3728\n",
       "Name: severity_final, dtype: int64"
      ]
     },
     "execution_count": 45,
     "metadata": {},
     "output_type": "execute_result"
    }
   ],
   "source": [
    "df_fixed['severity_final'].value_counts()"
   ]
  },
  {
   "cell_type": "code",
   "execution_count": 46,
   "metadata": {
    "collapsed": false
   },
   "outputs": [],
   "source": [
    "df_fixed.drop(['severity_init_other', 'severity_init_trivial', 'severity_init_minor', 'severity_init_normal', 'severity_init_major', 'severity_init_critical', 'severity_init_blocker'], axis=1, inplace=True)"
   ]
  },
  {
   "cell_type": "code",
   "execution_count": null,
   "metadata": {
    "collapsed": true
   },
   "outputs": [],
   "source": [
    "df_fixed.drop(['component_init', 'op_sys_init'], axis=1, inplace=True)"
   ]
  },
  {
   "cell_type": "code",
   "execution_count": 48,
   "metadata": {
    "collapsed": false
   },
   "outputs": [],
   "source": [
    "component_value_cnts = df_fixed['component_init'].value_counts()\n",
    "df_fixed['component_init'] = df_fixed['component_init'].map(lambda x: x if component_value_cnts[x] > 100 else 'unimportant')"
   ]
  },
  {
   "cell_type": "code",
   "execution_count": 47,
   "metadata": {
    "collapsed": false
   },
   "outputs": [
    {
     "data": {
      "text/plain": [
       "Index([             u'severity_final',              u'component_init',\n",
       "                       u'op_sys_init',            u'reporter_bug_cnt',\n",
       "                     u'duration_days',       u'assigned_to_init_bool',\n",
       "               u'bug_status_init_new', u'bug_status_init_unconfirmed',\n",
       "          u'bug_status_init_assigned',    u'bug_status_init_resolved',\n",
       "          u'bug_status_init_verified',      u'bug_status_init_closed',\n",
       "          u'bug_status_init_reopened',                 u'cc_init_cnt',\n",
       "               u'priority_init_other',            u'priority_init_p1',\n",
       "                  u'priority_init_p2',            u'priority_init_p3',\n",
       "                  u'priority_init_p4',            u'priority_init_p5',\n",
       "                u'product_init_other',           u'product_init_core',\n",
       "              u'product_init_firefox',    u'product_init_thunderbird',\n",
       "             u'product_init_bugzilla',        u'product_init_browser',\n",
       "             u'product_init_webtools',            u'product_init_psm',\n",
       "                u'version_init_other',          u'version_init_trunk',\n",
       "          u'version_init_unspecified',   u'version_init_other branch',\n",
       "           u'version_init_2.0 branch',     u'version_init_1.0 branch',\n",
       "           u'short_desc_init_wordcnt',           u'desc_init_wordcnt'],\n",
       "      dtype='object')"
      ]
     },
     "execution_count": 47,
     "metadata": {},
     "output_type": "execute_result"
    }
   ],
   "source": [
    "df_fixed.columns"
   ]
  },
  {
   "cell_type": "markdown",
   "metadata": {},
   "source": [
    "Train test split"
   ]
  },
  {
   "cell_type": "code",
   "execution_count": 49,
   "metadata": {
    "collapsed": false
   },
   "outputs": [],
   "source": [
    "y_all = df_fixed['severity_final'] #classifier\n",
    "X_all = df_fixed\n",
    "X_all.drop(['severity_final'], axis=1, inplace=True)\n",
    "\n",
    "X, X_test, y, y_test = train_test_split(X_all, y_all, test_size=0.25, random_state=42)"
   ]
  },
  {
   "cell_type": "code",
   "execution_count": 50,
   "metadata": {
    "collapsed": false
   },
   "outputs": [
    {
     "name": "stdout",
     "output_type": "stream",
     "text": [
      "Majority is 35.565636442% cases in train\n",
      "Majority is 35.6297702217% cases in test\n"
     ]
    }
   ],
   "source": [
    "print 'Majority is {}% cases in train'.format(y.value_counts().max() * 100 / y.value_counts().sum())\n",
    "print 'Majority is {}% cases in test'.format(y_test.value_counts().max() * 100 / y_test.value_counts().sum())"
   ]
  },
  {
   "cell_type": "markdown",
   "metadata": {},
   "source": [
    "Vectorize op_sys and component"
   ]
  },
  {
   "cell_type": "code",
   "execution_count": 51,
   "metadata": {
    "collapsed": false
   },
   "outputs": [],
   "source": [
    "cnt_vectorizer = CountVectorizer()\n",
    "\n",
    "opsys = cnt_vectorizer.fit_transform(X.pop('op_sys_init'))\n",
    "X = pd.concat([X.reset_index(drop=True), pd.DataFrame(opsys.toarray()).reset_index(drop=True)], axis=1, join='inner')\n",
    "\n",
    "opsys_test = cnt_vectorizer.transform(X_test.pop('op_sys_init'))\n",
    "X_test = pd.concat([X_test.reset_index(drop=True), \n",
    "                    pd.DataFrame(opsys_test.toarray()).reset_index(drop=True)], axis=1, join='inner')"
   ]
  },
  {
   "cell_type": "code",
   "execution_count": 52,
   "metadata": {
    "collapsed": false
   },
   "outputs": [],
   "source": [
    "component = cnt_vectorizer.fit_transform(X.pop('component_init'))\n",
    "X = pd.concat([X.reset_index(drop=True), \n",
    "               pd.DataFrame(component.toarray(),\n",
    "                            columns=['component_' + str(x) for x in xrange(component.shape[1])]).reset_index(drop=True)], \n",
    "              axis=1, join='inner')\n",
    "\n",
    "component_test = cnt_vectorizer.transform(X_test.pop('component_init'))\n",
    "X_test = pd.concat([X_test.reset_index(drop=True), \n",
    "                   pd.DataFrame(component_test.toarray(), \n",
    "                                columns=['component_' + str(x) for x in xrange(component_test.shape[1])]).reset_index(drop=True)], \n",
    "                    axis=1, join='inner')"
   ]
  },
  {
   "cell_type": "code",
   "execution_count": 53,
   "metadata": {
    "collapsed": false
   },
   "outputs": [
    {
     "name": "stdout",
     "output_type": "stream",
     "text": [
      "(74288, 232) (74288, 45) (74288, 154)\n"
     ]
    }
   ],
   "source": [
    "print X.shape, opsys.shape, component.shape"
   ]
  },
  {
   "cell_type": "markdown",
   "metadata": {},
   "source": [
    "### Multinomial NB Classifier"
   ]
  },
  {
   "cell_type": "code",
   "execution_count": 54,
   "metadata": {
    "collapsed": true
   },
   "outputs": [],
   "source": [
    "nb_model = MultinomialNB()"
   ]
  },
  {
   "cell_type": "code",
   "execution_count": 55,
   "metadata": {
    "collapsed": false
   },
   "outputs": [
    {
     "data": {
      "text/plain": [
       "MultinomialNB(alpha=1.0, class_prior=None, fit_prior=True)"
      ]
     },
     "execution_count": 55,
     "metadata": {},
     "output_type": "execute_result"
    }
   ],
   "source": [
    "nb_model.fit(X, y)"
   ]
  },
  {
   "cell_type": "code",
   "execution_count": 56,
   "metadata": {
    "collapsed": false
   },
   "outputs": [
    {
     "name": "stdout",
     "output_type": "stream",
     "text": [
      "accuracy: 0.28926220571\n",
      "precision: 0.35837878667\n",
      "recall: 0.28926220571\n",
      "\n",
      "confusion matrix: \n",
      " [[ 625   13  242   19   25]\n",
      " [3262  205 4374  714  152]\n",
      " [2073  120 5605  914  111]\n",
      " [ 929   88 2599  667  124]\n",
      " [ 624   42  892  283   61]]\n"
     ]
    }
   ],
   "source": [
    "y_pred = nb_model.predict(X_test)\n",
    "\n",
    "print 'accuracy: {}'.format(sklearn.metrics.accuracy_score(y_test, y_pred))\n",
    "print 'precision: {}'.format(sklearn.metrics.precision_score(y_test, y_pred))\n",
    "print 'recall: {}'.format(sklearn.metrics.recall_score(y_test, y_pred))\n",
    "print ''\n",
    "print 'confusion matrix: \\n {}'.format(sklearn.metrics.confusion_matrix(y_test, y_pred))"
   ]
  },
  {
   "cell_type": "markdown",
   "metadata": {},
   "source": [
    "### Random Forest Classifier"
   ]
  },
  {
   "cell_type": "code",
   "execution_count": 57,
   "metadata": {
    "collapsed": false
   },
   "outputs": [],
   "source": [
    "rf_model = RandomForestClassifier(n_estimators=20, criterion='gini', \n",
    "                               max_depth=3, max_features='auto', \n",
    "                               bootstrap=True, oob_score=True,\n",
    "                               random_state=None, warm_start=False)"
   ]
  },
  {
   "cell_type": "code",
   "execution_count": 58,
   "metadata": {
    "collapsed": false
   },
   "outputs": [
    {
     "data": {
      "text/plain": [
       "RandomForestClassifier(bootstrap=True, class_weight=None, criterion='gini',\n",
       "            max_depth=3, max_features='auto', max_leaf_nodes=None,\n",
       "            min_samples_leaf=1, min_samples_split=2,\n",
       "            min_weight_fraction_leaf=0.0, n_estimators=20, n_jobs=1,\n",
       "            oob_score=True, random_state=None, verbose=0, warm_start=False)"
      ]
     },
     "execution_count": 58,
     "metadata": {},
     "output_type": "execute_result"
    }
   ],
   "source": [
    "rf_model.fit(X,y)"
   ]
  },
  {
   "cell_type": "code",
   "execution_count": 59,
   "metadata": {
    "collapsed": false
   },
   "outputs": [
    {
     "name": "stdout",
     "output_type": "stream",
     "text": [
      "oob score: 0.417294852466\n",
      "\n",
      "accuracy: 0.416468117756\n",
      "precision: 0.29794221512\n",
      "recall: 0.416468117756\n",
      "\n",
      "confusion matrix: \n",
      " [[   0  667  257    0    0]\n",
      " [   0 3975 4732    0    0]\n",
      " [   0 2485 6338    0    0]\n",
      " [   0 1261 3146    0    0]\n",
      " [   0  689 1213    0    0]]\n"
     ]
    }
   ],
   "source": [
    "y_pred = rf_model.predict(X_test)\n",
    "\n",
    "#print 'feature importances: {}'.format(rf_model.feature_importances_)\n",
    "print 'oob score: {}'.format(rf_model.oob_score_)\n",
    "print ''\n",
    "print 'accuracy: {}'.format(sklearn.metrics.accuracy_score(y_test, y_pred))\n",
    "print 'precision: {}'.format(sklearn.metrics.precision_score(y_test, y_pred))\n",
    "print 'recall: {}'.format(sklearn.metrics.recall_score(y_test, y_pred))\n",
    "print ''\n",
    "print 'confusion matrix: \\n {}'.format(sklearn.metrics.confusion_matrix(y_test, y_pred))"
   ]
  },
  {
   "cell_type": "code",
   "execution_count": 60,
   "metadata": {
    "collapsed": false
   },
   "outputs": [
    {
     "name": "stdout",
     "output_type": "stream",
     "text": [
      "classification report: \n",
      "              precision    recall  f1-score   support\n",
      "\n",
      "    blocker       0.00      0.00      0.00       924\n",
      "   critical       0.44      0.46      0.45      8707\n",
      "      major       0.40      0.72      0.52      8823\n",
      "      minor       0.00      0.00      0.00      4407\n",
      "    trivial       0.00      0.00      0.00      1902\n",
      "\n",
      "avg / total       0.30      0.42      0.34     24763\n",
      "\n"
     ]
    }
   ],
   "source": [
    "print 'classification report: \\n {}'.format(sklearn.metrics.classification_report(y_test, y_pred))"
   ]
  },
  {
   "cell_type": "markdown",
   "metadata": {},
   "source": [
    "### Gradient Boost Classifier"
   ]
  },
  {
   "cell_type": "code",
   "execution_count": 61,
   "metadata": {
    "collapsed": true
   },
   "outputs": [],
   "source": [
    "gb_model = GradientBoostingClassifier(loss='deviance', learning_rate=0.1, \n",
    "                                   n_estimators=100, subsample=1.0,\n",
    "                                   max_depth=3, init=None, \n",
    "                                   random_state=None, max_features=None, \n",
    "                                   verbose=0, max_leaf_nodes=None, warm_start=False)"
   ]
  },
  {
   "cell_type": "code",
   "execution_count": 62,
   "metadata": {
    "collapsed": false
   },
   "outputs": [
    {
     "data": {
      "text/plain": [
       "GradientBoostingClassifier(init=None, learning_rate=0.1, loss='deviance',\n",
       "              max_depth=3, max_features=None, max_leaf_nodes=None,\n",
       "              min_samples_leaf=1, min_samples_split=2,\n",
       "              min_weight_fraction_leaf=0.0, n_estimators=100,\n",
       "              presort='auto', random_state=None, subsample=1.0, verbose=0,\n",
       "              warm_start=False)"
      ]
     },
     "execution_count": 62,
     "metadata": {},
     "output_type": "execute_result"
    }
   ],
   "source": [
    "gb_model.fit(X,y)"
   ]
  },
  {
   "cell_type": "code",
   "execution_count": 63,
   "metadata": {
    "collapsed": false
   },
   "outputs": [
    {
     "name": "stdout",
     "output_type": "stream",
     "text": [
      "\n",
      "accuracy: 0.477244275734\n",
      "precision: 0.483423050563\n",
      "recall: 0.477244275734\n",
      "\n",
      "confusion matrix: \n",
      " [[ 113  406  368   25   12]\n",
      " [  38 4962 3576  108   23]\n",
      " [  38 2435 6050  253   47]\n",
      " [  22  922 2878  483  102]\n",
      " [  28  426 1019  219  210]]\n"
     ]
    }
   ],
   "source": [
    "y_pred = gb_model.predict(X_test)\n",
    "\n",
    "#print 'feature importances: {}'.format(gb_model.feature_importances_)\n",
    "print ''\n",
    "print 'accuracy: {}'.format(sklearn.metrics.accuracy_score(y_test, y_pred))\n",
    "print 'precision: {}'.format(sklearn.metrics.precision_score(y_test, y_pred))\n",
    "print 'recall: {}'.format(sklearn.metrics.recall_score(y_test, y_pred))\n",
    "print ''\n",
    "print 'confusion matrix: \\n {}'.format(sklearn.metrics.confusion_matrix(y_test, y_pred))"
   ]
  },
  {
   "cell_type": "code",
   "execution_count": 64,
   "metadata": {
    "collapsed": false
   },
   "outputs": [
    {
     "name": "stdout",
     "output_type": "stream",
     "text": [
      "classification report: \n",
      "              precision    recall  f1-score   support\n",
      "\n",
      "    blocker       0.47      0.12      0.19       924\n",
      "   critical       0.54      0.57      0.56      8707\n",
      "      major       0.44      0.69      0.53      8823\n",
      "      minor       0.44      0.11      0.18      4407\n",
      "    trivial       0.53      0.11      0.18      1902\n",
      "\n",
      "avg / total       0.48      0.48      0.44     24763\n",
      "\n"
     ]
    }
   ],
   "source": [
    "print 'classification report: \\n {}'.format(sklearn.metrics.classification_report(y_test, y_pred))"
   ]
  }
 ],
 "metadata": {
  "kernelspec": {
   "display_name": "Python 2",
   "language": "python",
   "name": "python2"
  },
  "language_info": {
   "codemirror_mode": {
    "name": "ipython",
    "version": 2
   },
   "file_extension": ".py",
   "mimetype": "text/x-python",
   "name": "python",
   "nbconvert_exporter": "python",
   "pygments_lexer": "ipython2",
   "version": "2.7.12"
  }
 },
 "nbformat": 4,
 "nbformat_minor": 0
}
