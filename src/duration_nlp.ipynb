{
 "cells": [
  {
   "cell_type": "markdown",
   "metadata": {},
   "source": [
    "## Model NLP"
   ]
  },
  {
   "cell_type": "code",
   "execution_count": 131,
   "metadata": {
    "collapsed": true
   },
   "outputs": [],
   "source": [
    "from __future__ import division\n",
    "import pandas as pd\n",
    "import numpy as np\n",
    "from sklearn.cross_validation import train_test_split\n",
    "import sklearn.metrics\n",
    "import pickle\n",
    "from sklearn.feature_extraction.text import TfidfVectorizer\n",
    "from sklearn.naive_bayes import MultinomialNB\n",
    "from sklearn.ensemble import RandomForestClassifier\n",
    "from sklearn.ensemble import GradientBoostingClassifier\n",
    "from sklearn.ensemble import RandomForestRegressor"
   ]
  },
  {
   "cell_type": "code",
   "execution_count": 33,
   "metadata": {
    "collapsed": false
   },
   "outputs": [],
   "source": [
    "df = pd.read_pickle('../data/df.pkl')\n",
    "word_list_reduced = pickle.load(open('../data/vocabulary.pkl', 'rb'))\n",
    "vectorizer = pickle.load(open('../data/tfidf_vectorizer.pkl', 'rb'))"
   ]
  },
  {
   "cell_type": "markdown",
   "metadata": {},
   "source": [
    "Only look at fixed"
   ]
  },
  {
   "cell_type": "code",
   "execution_count": 63,
   "metadata": {
    "collapsed": true
   },
   "outputs": [],
   "source": [
    "df_fixed = df[df['resolution_final'] == 'fixed']"
   ]
  },
  {
   "cell_type": "code",
   "execution_count": 127,
   "metadata": {
    "collapsed": false
   },
   "outputs": [
    {
     "name": "stderr",
     "output_type": "stream",
     "text": [
      "/Users/lucka/anaconda/lib/python2.7/site-packages/ipykernel/__main__.py:1: SettingWithCopyWarning: \n",
      "A value is trying to be set on a copy of a slice from a DataFrame.\n",
      "Try using .loc[row_indexer,col_indexer] = value instead\n",
      "\n",
      "See the caveats in the documentation: http://pandas.pydata.org/pandas-docs/stable/indexing.html#indexing-view-versus-copy\n",
      "  if __name__ == '__main__':\n"
     ]
    },
    {
     "data": {
      "text/plain": [
       "[0, 2]         25791\n",
       "(123, 4567]    21991\n",
       "(30, 123]      21872\n",
       "(9, 30]        20664\n",
       "(2, 9]         19825\n",
       "Name: duration_bin2, dtype: int64"
      ]
     },
     "execution_count": 127,
     "metadata": {},
     "output_type": "execute_result"
    }
   ],
   "source": [
    "df_fixed['duration_bin2'] = pd.qcut(df_fixed['duration_days'], 5)\n",
    "df_fixed['duration_bin2'].value_counts()"
   ]
  },
  {
   "cell_type": "code",
   "execution_count": 130,
   "metadata": {
    "collapsed": false
   },
   "outputs": [
    {
     "name": "stderr",
     "output_type": "stream",
     "text": [
      "/Users/lucka/anaconda/lib/python2.7/site-packages/ipykernel/__main__.py:1: SettingWithCopyWarning: \n",
      "A value is trying to be set on a copy of a slice from a DataFrame.\n",
      "Try using .loc[row_indexer,col_indexer] = value instead\n",
      "\n",
      "See the caveats in the documentation: http://pandas.pydata.org/pandas-docs/stable/indexing.html#indexing-view-versus-copy\n",
      "  if __name__ == '__main__':\n"
     ]
    },
    {
     "data": {
      "text/plain": [
       "<matplotlib.axes._subplots.AxesSubplot at 0x12976eb50>"
      ]
     },
     "execution_count": 130,
     "metadata": {},
     "output_type": "execute_result"
    },
    {
     "data": {
      "image/png": "[encoded data removed]",
      "text/plain": [
       "<matplotlib.figure.Figure at 0x12ad6a810>"
      ]
     },
     "metadata": {},
     "output_type": "display_data"
    }
   ],
   "source": [
    "df_fixed['duration_days_log'] = df_fixed['duration_days'].map(lambda x: np.log10(x + 1))\n",
    "df_fixed['duration_days_log'].hist()"
   ]
  },
  {
   "cell_type": "markdown",
   "metadata": {},
   "source": [
    "Train test split"
   ]
  },
  {
   "cell_type": "code",
   "execution_count": 133,
   "metadata": {
    "collapsed": true
   },
   "outputs": [],
   "source": [
    "X_all = df_fixed['desc_init']\n",
    "#X_all = df['short_desc_init']\n",
    "y_all = df_fixed['duration_days_log']\n",
    "\n",
    "X, X_test, y, y_test = train_test_split(X_all, y_all, test_size=0.25, random_state=42)"
   ]
  },
  {
   "cell_type": "markdown",
   "metadata": {},
   "source": [
    "Class imbalance"
   ]
  },
  {
   "cell_type": "code",
   "execution_count": 134,
   "metadata": {
    "collapsed": false
   },
   "outputs": [
    {
     "name": "stdout",
     "output_type": "stream",
     "text": [
      "Majority is 12.2895154164% cases in train\n",
      "Majority is 12.4273678094% cases in test\n"
     ]
    }
   ],
   "source": [
    "print 'Majority is {}% cases in train'.format(y.value_counts().max() * 100 / y.value_counts().sum())\n",
    "print 'Majority is {}% cases in test'.format(y_test.value_counts().max() * 100 / y_test.value_counts().sum())"
   ]
  },
  {
   "cell_type": "markdown",
   "metadata": {},
   "source": [
    "Vectorize stuff"
   ]
  },
  {
   "cell_type": "code",
   "execution_count": 136,
   "metadata": {
    "collapsed": false
   },
   "outputs": [
    {
     "name": "stdout",
     "output_type": "stream",
     "text": [
      "(82607, 22466)\n",
      "(27536, 22466)\n"
     ]
    }
   ],
   "source": [
    "tfidf = vectorizer.transform(X)\n",
    "print tfidf.shape\n",
    "tfidf_test = vectorizer.transform(X_test)\n",
    "print tfidf_test.shape"
   ]
  },
  {
   "cell_type": "markdown",
   "metadata": {},
   "source": [
    "### Multinomial NB - desc_init"
   ]
  },
  {
   "cell_type": "code",
   "execution_count": 96,
   "metadata": {
    "collapsed": false
   },
   "outputs": [],
   "source": [
    "nb_model = MultinomialNB()"
   ]
  },
  {
   "cell_type": "code",
   "execution_count": 97,
   "metadata": {
    "collapsed": false
   },
   "outputs": [
    {
     "data": {
      "text/plain": [
       "MultinomialNB(alpha=1.0, class_prior=None, fit_prior=True)"
      ]
     },
     "execution_count": 97,
     "metadata": {},
     "output_type": "execute_result"
    }
   ],
   "source": [
    "nb_model.fit(tfidf, y)"
   ]
  },
  {
   "cell_type": "code",
   "execution_count": 98,
   "metadata": {
    "collapsed": false
   },
   "outputs": [
    {
     "name": "stdout",
     "output_type": "stream",
     "text": [
      "accuracy: 0.295177222545\n",
      "precision: 0.267809211621\n",
      "recall: 0.295177222545\n",
      "\n"
     ]
    },
    {
     "name": "stderr",
     "output_type": "stream",
     "text": [
      "/Users/lucka/anaconda/lib/python2.7/site-packages/sklearn/metrics/classification.py:1203: DeprecationWarning: The default `weighted` averaging is deprecated, and from version 0.18, use of precision, recall or F-score with multiclass or multilabel data or pos_label=None will result in an exception. Please set an explicit value for `average`, one of (None, 'micro', 'macro', 'weighted', 'samples'). In cross validation use, for instance, scoring=\"f1_weighted\" instead of scoring=\"f1\".\n",
      "  sample_weight=sample_weight)\n",
      "/Users/lucka/anaconda/lib/python2.7/site-packages/sklearn/metrics/classification.py:1304: DeprecationWarning: The default `weighted` averaging is deprecated, and from version 0.18, use of precision, recall or F-score with multiclass or multilabel data or pos_label=None will result in an exception. Please set an explicit value for `average`, one of (None, 'micro', 'macro', 'weighted', 'samples'). In cross validation use, for instance, scoring=\"f1_weighted\" instead of scoring=\"f1\".\n",
      "  sample_weight=sample_weight)\n"
     ]
    },
    {
     "name": "stdout",
     "output_type": "stream",
     "text": [
      "confusion matrix: \n",
      " [[2665   53  671  154 2028]\n",
      " [1214   75  547  165 2965]\n",
      " [1936   80  823  183 2408]\n",
      " [1474   68  632  207 2732]\n",
      " [1352   70  535  141 4358]]\n"
     ]
    }
   ],
   "source": [
    "y_pred = nb_model.predict(tfidf_test)\n",
    "\n",
    "print 'accuracy: {}'.format(sklearn.metrics.accuracy_score(y_test, y_pred))\n",
    "print 'precision: {}'.format(sklearn.metrics.precision_score(y_test, y_pred))\n",
    "print 'recall: {}'.format(sklearn.metrics.recall_score(y_test, y_pred))\n",
    "print ''\n",
    "print 'confusion matrix: \\n {}'.format(sklearn.metrics.confusion_matrix(y_test, y_pred))"
   ]
  },
  {
   "cell_type": "markdown",
   "metadata": {},
   "source": [
    "### Random Forest - desc_init"
   ]
  },
  {
   "cell_type": "code",
   "execution_count": 124,
   "metadata": {
    "collapsed": false
   },
   "outputs": [],
   "source": [
    "rf_model = RandomForestClassifier(n_estimators=20, criterion='gini', \n",
    "                               max_depth=3, max_features='auto', \n",
    "                               bootstrap=True, oob_score=True,\n",
    "                               random_state=None, warm_start=False)"
   ]
  },
  {
   "cell_type": "code",
   "execution_count": 125,
   "metadata": {
    "collapsed": false
   },
   "outputs": [
    {
     "data": {
      "text/plain": [
       "RandomForestClassifier(bootstrap=True, class_weight=None, criterion='gini',\n",
       "            max_depth=3, max_features='auto', max_leaf_nodes=None,\n",
       "            min_samples_leaf=1, min_samples_split=2,\n",
       "            min_weight_fraction_leaf=0.0, n_estimators=20, n_jobs=1,\n",
       "            oob_score=True, random_state=None, verbose=0, warm_start=False)"
      ]
     },
     "execution_count": 125,
     "metadata": {},
     "output_type": "execute_result"
    }
   ],
   "source": [
    "rf_model.fit(tfidf,y)"
   ]
  },
  {
   "cell_type": "code",
   "execution_count": 126,
   "metadata": {
    "collapsed": false
   },
   "outputs": [
    {
     "name": "stdout",
     "output_type": "stream",
     "text": [
      "feature importances: [ 0.  0.  0. ...,  0.  0.  0.]\n",
      "oob score: 0.252254651543\n",
      "\n",
      "accuracy: 0.251670540383\n",
      "precision: 0.170135880347\n"
     ]
    },
    {
     "name": "stderr",
     "output_type": "stream",
     "text": [
      "/Users/lucka/anaconda/lib/python2.7/site-packages/sklearn/metrics/classification.py:1203: DeprecationWarning: The default `weighted` averaging is deprecated, and from version 0.18, use of precision, recall or F-score with multiclass or multilabel data or pos_label=None will result in an exception. Please set an explicit value for `average`, one of (None, 'micro', 'macro', 'weighted', 'samples'). In cross validation use, for instance, scoring=\"f1_weighted\" instead of scoring=\"f1\".\n",
      "  sample_weight=sample_weight)\n",
      "/Users/lucka/anaconda/lib/python2.7/site-packages/sklearn/metrics/classification.py:1304: DeprecationWarning: The default `weighted` averaging is deprecated, and from version 0.18, use of precision, recall or F-score with multiclass or multilabel data or pos_label=None will result in an exception. Please set an explicit value for `average`, one of (None, 'micro', 'macro', 'weighted', 'samples'). In cross validation use, for instance, scoring=\"f1_weighted\" instead of scoring=\"f1\".\n",
      "  sample_weight=sample_weight)\n"
     ]
    },
    {
     "name": "stdout",
     "output_type": "stream",
     "text": [
      "recall: 0.251670540383\n",
      "\n",
      "confusion matrix: \n",
      " [[ 742    0    8    3 4818]\n",
      " [ 258    0    2    1 4705]\n",
      " [ 474    1    2    0 4953]\n",
      " [ 323    0    7    1 4782]\n",
      " [ 259    0   10    2 6185]]\n"
     ]
    }
   ],
   "source": [
    "y_pred = rf_model.predict(tfidf_test)\n",
    "\n",
    "print 'feature importances: {}'.format(rf_model.feature_importances_)\n",
    "print 'oob score: {}'.format(rf_model.oob_score_)\n",
    "print ''\n",
    "print 'accuracy: {}'.format(sklearn.metrics.accuracy_score(y_test, y_pred))\n",
    "print 'precision: {}'.format(sklearn.metrics.precision_score(y_test, y_pred))\n",
    "print 'recall: {}'.format(sklearn.metrics.recall_score(y_test, y_pred))\n",
    "print ''\n",
    "print 'confusion matrix: \\n {}'.format(sklearn.metrics.confusion_matrix(y_test, y_pred))"
   ]
  },
  {
   "cell_type": "markdown",
   "metadata": {},
   "source": [
    "### Gradient Boost - desc_init"
   ]
  },
  {
   "cell_type": "code",
   "execution_count": 103,
   "metadata": {
    "collapsed": true
   },
   "outputs": [],
   "source": [
    "gb_model = GradientBoostingClassifier(loss='deviance', learning_rate=0.1, \n",
    "                                   n_estimators=100, subsample=1.0,\n",
    "                                   max_depth=3, init=None, \n",
    "                                   random_state=None, max_features=None, \n",
    "                                   verbose=0, max_leaf_nodes=None, warm_start=False)"
   ]
  },
  {
   "cell_type": "code",
   "execution_count": 104,
   "metadata": {
    "collapsed": false
   },
   "outputs": [
    {
     "data": {
      "text/plain": [
       "GradientBoostingClassifier(init=None, learning_rate=0.1, loss='deviance',\n",
       "              max_depth=3, max_features=None, max_leaf_nodes=None,\n",
       "              min_samples_leaf=1, min_samples_split=2,\n",
       "              min_weight_fraction_leaf=0.0, n_estimators=100,\n",
       "              presort='auto', random_state=None, subsample=1.0, verbose=0,\n",
       "              warm_start=False)"
      ]
     },
     "execution_count": 104,
     "metadata": {},
     "output_type": "execute_result"
    }
   ],
   "source": [
    "gb_model.fit(tfidf,y)"
   ]
  },
  {
   "cell_type": "code",
   "execution_count": 109,
   "metadata": {
    "collapsed": false
   },
   "outputs": [
    {
     "name": "stdout",
     "output_type": "stream",
     "text": [
      "feature importances: [ 0.0001677  0.         0.        ...,  0.         0.         0.       ]\n",
      "\n",
      "accuracy: 0.289221382917\n",
      "precision: 0.2719571918\n"
     ]
    },
    {
     "name": "stderr",
     "output_type": "stream",
     "text": [
      "/Users/lucka/anaconda/lib/python2.7/site-packages/sklearn/metrics/classification.py:1203: DeprecationWarning: The default `weighted` averaging is deprecated, and from version 0.18, use of precision, recall or F-score with multiclass or multilabel data or pos_label=None will result in an exception. Please set an explicit value for `average`, one of (None, 'micro', 'macro', 'weighted', 'samples'). In cross validation use, for instance, scoring=\"f1_weighted\" instead of scoring=\"f1\".\n",
      "  sample_weight=sample_weight)\n",
      "/Users/lucka/anaconda/lib/python2.7/site-packages/sklearn/metrics/classification.py:1304: DeprecationWarning: The default `weighted` averaging is deprecated, and from version 0.18, use of precision, recall or F-score with multiclass or multilabel data or pos_label=None will result in an exception. Please set an explicit value for `average`, one of (None, 'micro', 'macro', 'weighted', 'samples'). In cross validation use, for instance, scoring=\"f1_weighted\" instead of scoring=\"f1\".\n",
      "  sample_weight=sample_weight)\n"
     ]
    },
    {
     "name": "stdout",
     "output_type": "stream",
     "text": [
      "recall: 0.289221382917\n",
      "\n",
      "confusion matrix: \n",
      " [[1957   41  811   78 2684]\n",
      " [ 769   76  602  101 3418]\n",
      " [1300   64  943  130 2993]\n",
      " [ 935   65  731  131 3251]\n",
      " [ 814   90  607   88 4857]]\n"
     ]
    }
   ],
   "source": [
    "y_pred = gb_model.predict(tfidf_test.toarray())\n",
    "\n",
    "print 'feature importances: {}'.format(gb_model.feature_importances_)\n",
    "print ''\n",
    "print 'accuracy: {}'.format(sklearn.metrics.accuracy_score(y_test, y_pred))\n",
    "print 'precision: {}'.format(sklearn.metrics.precision_score(y_test, y_pred))\n",
    "print 'recall: {}'.format(sklearn.metrics.recall_score(y_test, y_pred))\n",
    "print ''\n",
    "print 'confusion matrix: \\n {}'.format(sklearn.metrics.confusion_matrix(y_test, y_pred))"
   ]
  },
  {
   "cell_type": "markdown",
   "metadata": {},
   "source": [
    "### Random Forest - desc_init regressor"
   ]
  },
  {
   "cell_type": "code",
   "execution_count": 132,
   "metadata": {
    "collapsed": true
   },
   "outputs": [],
   "source": [
    "rf1_model = RandomForestRegressor(n_estimators=20, criterion='mse', \n",
    "                               max_depth=3, max_features='auto', \n",
    "                               bootstrap=True, oob_score=True,\n",
    "                               random_state=None, warm_start=False)"
   ]
  },
  {
   "cell_type": "code",
   "execution_count": 137,
   "metadata": {
    "collapsed": false
   },
   "outputs": [
    {
     "name": "stderr",
     "output_type": "stream",
     "text": [
      "/Users/lucka/anaconda/lib/python2.7/site-packages/sklearn/ensemble/forest.py:687: UserWarning: Some inputs do not have OOB scores. This probably means too few trees were used to compute any reliable oob estimates.\n",
      "  warn(\"Some inputs do not have OOB scores. \"\n"
     ]
    },
    {
     "data": {
      "text/plain": [
       "RandomForestRegressor(bootstrap=True, criterion='mse', max_depth=3,\n",
       "           max_features='auto', max_leaf_nodes=None, min_samples_leaf=1,\n",
       "           min_samples_split=2, min_weight_fraction_leaf=0.0,\n",
       "           n_estimators=20, n_jobs=1, oob_score=True, random_state=None,\n",
       "           verbose=0, warm_start=False)"
      ]
     },
     "execution_count": 137,
     "metadata": {},
     "output_type": "execute_result"
    }
   ],
   "source": [
    "rf1_model.fit(tfidf, y)"
   ]
  },
  {
   "cell_type": "code",
   "execution_count": 139,
   "metadata": {
    "collapsed": false
   },
   "outputs": [
    {
     "name": "stdout",
     "output_type": "stream",
     "text": [
      "feature importances: [ 0.  0.  0. ...,  0.  0.  0.]\n",
      "oob score: 0.0390567043731\n",
      "r-squared: 0.0356680001073\n"
     ]
    }
   ],
   "source": [
    "print 'feature importances: {}'.format(rf1_model.feature_importances_)\n",
    "print 'oob score: {}'.format(rf1_model.oob_score_)\n",
    "print 'r-squared: {}'.format(rf1_model.score(tfidf_test,y_test))"
   ]
  },
  {
   "cell_type": "code",
   "execution_count": 61,
   "metadata": {
    "collapsed": false
   },
   "outputs": [
    {
     "data": {
      "text/plain": [
       "(array([  4.50890000e+04,   0.00000000e+00,   0.00000000e+00,\n",
       "          0.00000000e+00,   3.81700000e+03,   0.00000000e+00,\n",
       "          2.15000000e+03,   0.00000000e+00,   1.41400000e+03,\n",
       "          1.08900000e+03,   9.72000000e+02,   8.71000000e+02,\n",
       "          7.06000000e+02,   1.04900000e+03,   8.62000000e+02,\n",
       "          7.87000000e+02,   9.88000000e+02,   8.40000000e+02,\n",
       "          8.15000000e+02,   1.10700000e+03,   9.14000000e+02,\n",
       "          9.83000000e+02,   9.42000000e+02,   9.32000000e+02,\n",
       "          9.83000000e+02,   1.02500000e+03,   9.64000000e+02,\n",
       "          1.05000000e+03,   1.01500000e+03,   1.02400000e+03,\n",
       "          8.65000000e+02,   8.92000000e+02,   9.27000000e+02,\n",
       "          9.06000000e+02,   9.17000000e+02,   8.28000000e+02,\n",
       "          7.77000000e+02,   7.16000000e+02,   6.46000000e+02,\n",
       "          6.09000000e+02,   5.22000000e+02,   4.40000000e+02,\n",
       "          3.63000000e+02,   3.05000000e+02,   2.13000000e+02,\n",
       "          1.72000000e+02,   1.30000000e+02,   7.40000000e+01,\n",
       "          4.80000000e+01,   3.20000000e+01]),\n",
       " array([ 0.        ,  0.07245878,  0.14491756,  0.21737634,  0.28983512,\n",
       "         0.3622939 ,  0.43475268,  0.50721146,  0.57967024,  0.65212901,\n",
       "         0.72458779,  0.79704657,  0.86950535,  0.94196413,  1.01442291,\n",
       "         1.08688169,  1.15934047,  1.23179925,  1.30425803,  1.37671681,\n",
       "         1.44917559,  1.52163437,  1.59409315,  1.66655193,  1.73901071,\n",
       "         1.81146948,  1.88392826,  1.95638704,  2.02884582,  2.1013046 ,\n",
       "         2.17376338,  2.24622216,  2.31868094,  2.39113972,  2.4635985 ,\n",
       "         2.53605728,  2.60851606,  2.68097484,  2.75343362,  2.8258924 ,\n",
       "         2.89835118,  2.97080995,  3.04326873,  3.11572751,  3.18818629,\n",
       "         3.26064507,  3.33310385,  3.40556263,  3.47802141,  3.55048019,\n",
       "         3.62293897]),\n",
       " <a list of 50 Patch objects>)"
      ]
     },
     "execution_count": 61,
     "metadata": {},
     "output_type": "execute_result"
    },
    {
     "data": {
      "image/png": "[encoded data removed]",
      "text/plain": [
       "<matplotlib.figure.Figure at 0x12433c050>"
      ]
     },
     "metadata": {},
     "output_type": "display_data"
    }
   ],
   "source": [
    "%matplotlib inline\n",
    "plt.hist(np.log10(df[df.resolution_final=='fixed']['duration_days'].values + 1), bins=50, alpha=0.1)\n",
    "plt.hist(np.log10(df[df.resolution_final=='duplicate']['duration_days'].values + 1), bins=50, alpha=0.1)"
   ]
  },
  {
   "cell_type": "code",
   "execution_count": 58,
   "metadata": {
    "collapsed": false
   },
   "outputs": [
    {
     "data": {
      "text/html": [
       "<div>\n",
       "<table border=\"1\" class=\"dataframe\">\n",
       "  <thead>\n",
       "    <tr style=\"text-align: right;\">\n",
       "      <th>resolution_init</th>\n",
       "      <th></th>\n",
       "      <th>duplicate</th>\n",
       "      <th>fixed</th>\n",
       "      <th>invalid</th>\n",
       "      <th>later</th>\n",
       "      <th>wontfix</th>\n",
       "      <th>worksforme</th>\n",
       "    </tr>\n",
       "    <tr>\n",
       "      <th>resolution_final</th>\n",
       "      <th></th>\n",
       "      <th></th>\n",
       "      <th></th>\n",
       "      <th></th>\n",
       "      <th></th>\n",
       "      <th></th>\n",
       "      <th></th>\n",
       "    </tr>\n",
       "  </thead>\n",
       "  <tbody>\n",
       "    <tr>\n",
       "      <th></th>\n",
       "      <td>4</td>\n",
       "      <td>0</td>\n",
       "      <td>0</td>\n",
       "      <td>0</td>\n",
       "      <td>0</td>\n",
       "      <td>0</td>\n",
       "      <td>0</td>\n",
       "    </tr>\n",
       "    <tr>\n",
       "      <th>duplicate</th>\n",
       "      <td>82764</td>\n",
       "      <td>3</td>\n",
       "      <td>2</td>\n",
       "      <td>0</td>\n",
       "      <td>1</td>\n",
       "      <td>0</td>\n",
       "      <td>0</td>\n",
       "    </tr>\n",
       "    <tr>\n",
       "      <th>expired</th>\n",
       "      <td>4593</td>\n",
       "      <td>0</td>\n",
       "      <td>0</td>\n",
       "      <td>0</td>\n",
       "      <td>0</td>\n",
       "      <td>0</td>\n",
       "      <td>0</td>\n",
       "    </tr>\n",
       "    <tr>\n",
       "      <th>fixed</th>\n",
       "      <td>110036</td>\n",
       "      <td>0</td>\n",
       "      <td>107</td>\n",
       "      <td>0</td>\n",
       "      <td>0</td>\n",
       "      <td>0</td>\n",
       "      <td>0</td>\n",
       "    </tr>\n",
       "    <tr>\n",
       "      <th>incomplete</th>\n",
       "      <td>21548</td>\n",
       "      <td>0</td>\n",
       "      <td>0</td>\n",
       "      <td>0</td>\n",
       "      <td>0</td>\n",
       "      <td>0</td>\n",
       "      <td>0</td>\n",
       "    </tr>\n",
       "    <tr>\n",
       "      <th>invalid</th>\n",
       "      <td>34217</td>\n",
       "      <td>0</td>\n",
       "      <td>0</td>\n",
       "      <td>2</td>\n",
       "      <td>0</td>\n",
       "      <td>0</td>\n",
       "      <td>0</td>\n",
       "    </tr>\n",
       "    <tr>\n",
       "      <th>moved</th>\n",
       "      <td>14</td>\n",
       "      <td>0</td>\n",
       "      <td>0</td>\n",
       "      <td>0</td>\n",
       "      <td>0</td>\n",
       "      <td>0</td>\n",
       "      <td>0</td>\n",
       "    </tr>\n",
       "    <tr>\n",
       "      <th>wontfix</th>\n",
       "      <td>9838</td>\n",
       "      <td>0</td>\n",
       "      <td>0</td>\n",
       "      <td>0</td>\n",
       "      <td>0</td>\n",
       "      <td>5</td>\n",
       "      <td>0</td>\n",
       "    </tr>\n",
       "    <tr>\n",
       "      <th>worksforme</th>\n",
       "      <td>47810</td>\n",
       "      <td>0</td>\n",
       "      <td>0</td>\n",
       "      <td>1</td>\n",
       "      <td>0</td>\n",
       "      <td>0</td>\n",
       "      <td>2</td>\n",
       "    </tr>\n",
       "  </tbody>\n",
       "</table>\n",
       "</div>"
      ],
      "text/plain": [
       "resolution_init           duplicate  fixed  invalid  later  wontfix  \\\n",
       "resolution_final                                                      \n",
       "                       4          0      0        0      0        0   \n",
       "duplicate          82764          3      2        0      1        0   \n",
       "expired             4593          0      0        0      0        0   \n",
       "fixed             110036          0    107        0      0        0   \n",
       "incomplete         21548          0      0        0      0        0   \n",
       "invalid            34217          0      0        2      0        0   \n",
       "moved                 14          0      0        0      0        0   \n",
       "wontfix             9838          0      0        0      0        5   \n",
       "worksforme         47810          0      0        1      0        0   \n",
       "\n",
       "resolution_init   worksforme  \n",
       "resolution_final              \n",
       "                           0  \n",
       "duplicate                  0  \n",
       "expired                    0  \n",
       "fixed                      0  \n",
       "incomplete                 0  \n",
       "invalid                    0  \n",
       "moved                      0  \n",
       "wontfix                    0  \n",
       "worksforme                 2  "
      ]
     },
     "execution_count": 58,
     "metadata": {},
     "output_type": "execute_result"
    }
   ],
   "source": [
    "pd.crosstab(df['resolution_final'], df['resolution_init'])"
   ]
  },
  {
   "cell_type": "code",
   "execution_count": null,
   "metadata": {
    "collapsed": true
   },
   "outputs": [],
   "source": []
  }
 ],
 "metadata": {
  "kernelspec": {
   "display_name": "Python 2",
   "language": "python",
   "name": "python2"
  },
  "language_info": {
   "codemirror_mode": {
    "name": "ipython",
    "version": 2
   },
   "file_extension": ".py",
   "mimetype": "text/x-python",
   "name": "python",
   "nbconvert_exporter": "python",
   "pygments_lexer": "ipython2",
   "version": "2.7.12"
  }
 },
 "nbformat": 4,
 "nbformat_minor": 0
}
