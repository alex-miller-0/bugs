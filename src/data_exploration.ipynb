{
 "cells": [
  {
   "cell_type": "markdown",
   "metadata": {},
   "source": [
    "## Data Exploration"
   ]
  },
  {
   "cell_type": "code",
   "execution_count": 1,
   "metadata": {
    "collapsed": true
   },
   "outputs": [],
   "source": [
    "from __future__ import division\n",
    "import pymongo\n",
    "import json\n",
    "from sqlalchemy import create_engine\n",
    "import pandas as pd\n",
    "import numpy as np\n",
    "import matplotlib.pyplot as plt\n",
    "\n",
    "%matplotlib inline"
   ]
  },
  {
   "cell_type": "code",
   "execution_count": 2,
   "metadata": {
    "collapsed": true
   },
   "outputs": [],
   "source": [
    "engine = create_engine('postgresql://lucka@localhost:5432/bugs')"
   ]
  },
  {
   "cell_type": "markdown",
   "metadata": {},
   "source": [
    "### Check few lines"
   ]
  },
  {
   "cell_type": "code",
   "execution_count": 3,
   "metadata": {
    "collapsed": false
   },
   "outputs": [
    {
     "data": {
      "text/html": [
       "<div>\n",
       "<table border=\"1\" class=\"dataframe\">\n",
       "  <thead>\n",
       "    <tr style=\"text-align: right;\">\n",
       "      <th></th>\n",
       "      <th>0</th>\n",
       "      <th>1</th>\n",
       "    </tr>\n",
       "  </thead>\n",
       "  <tbody>\n",
       "    <tr>\n",
       "      <th>id</th>\n",
       "      <td>187257</td>\n",
       "      <td>187377</td>\n",
       "    </tr>\n",
       "    <tr>\n",
       "      <th>opening</th>\n",
       "      <td>2002-12-31 06:38:20</td>\n",
       "      <td>2003-01-01 14:49:54</td>\n",
       "    </tr>\n",
       "    <tr>\n",
       "      <th>reporter</th>\n",
       "      <td>17687</td>\n",
       "      <td>81611</td>\n",
       "    </tr>\n",
       "    <tr>\n",
       "      <th>current_status</th>\n",
       "      <td>resolved</td>\n",
       "      <td>resolved</td>\n",
       "    </tr>\n",
       "    <tr>\n",
       "      <th>current_resolution</th>\n",
       "      <td>fixed</td>\n",
       "      <td>duplicate</td>\n",
       "    </tr>\n",
       "    <tr>\n",
       "      <th>assigned_to_cnt</th>\n",
       "      <td>1</td>\n",
       "      <td>2</td>\n",
       "    </tr>\n",
       "    <tr>\n",
       "      <th>assigned_to_init</th>\n",
       "      <td></td>\n",
       "      <td>font@layout.bugs</td>\n",
       "    </tr>\n",
       "    <tr>\n",
       "      <th>assigned_to_final</th>\n",
       "      <td></td>\n",
       "      <td>blizzard@mozilla.org</td>\n",
       "    </tr>\n",
       "    <tr>\n",
       "      <th>bug_status_cnt</th>\n",
       "      <td>2</td>\n",
       "      <td>2</td>\n",
       "    </tr>\n",
       "    <tr>\n",
       "      <th>bug_status_init</th>\n",
       "      <td>new</td>\n",
       "      <td>unconfirmed</td>\n",
       "    </tr>\n",
       "    <tr>\n",
       "      <th>bug_status_final</th>\n",
       "      <td>resolved</td>\n",
       "      <td>resolved</td>\n",
       "    </tr>\n",
       "    <tr>\n",
       "      <th>cc_cnt</th>\n",
       "      <td>1</td>\n",
       "      <td>2</td>\n",
       "    </tr>\n",
       "    <tr>\n",
       "      <th>cc_init</th>\n",
       "      <td></td>\n",
       "      <td></td>\n",
       "    </tr>\n",
       "    <tr>\n",
       "      <th>cc_final</th>\n",
       "      <td></td>\n",
       "      <td>anthony@thizlinux.com</td>\n",
       "    </tr>\n",
       "    <tr>\n",
       "      <th>component_cnt</th>\n",
       "      <td>1</td>\n",
       "      <td>1</td>\n",
       "    </tr>\n",
       "    <tr>\n",
       "      <th>component_init</th>\n",
       "      <td>layout: tables</td>\n",
       "      <td>layout: text</td>\n",
       "    </tr>\n",
       "    <tr>\n",
       "      <th>component_final</th>\n",
       "      <td>layout: tables</td>\n",
       "      <td>layout: text</td>\n",
       "    </tr>\n",
       "    <tr>\n",
       "      <th>op_sys_cnt</th>\n",
       "      <td>1</td>\n",
       "      <td>1</td>\n",
       "    </tr>\n",
       "    <tr>\n",
       "      <th>op_sys_init</th>\n",
       "      <td>windows 98</td>\n",
       "      <td>linux</td>\n",
       "    </tr>\n",
       "    <tr>\n",
       "      <th>op_sys_final</th>\n",
       "      <td>windows 98</td>\n",
       "      <td>linux</td>\n",
       "    </tr>\n",
       "    <tr>\n",
       "      <th>priority_cnt</th>\n",
       "      <td>1</td>\n",
       "      <td>1</td>\n",
       "    </tr>\n",
       "    <tr>\n",
       "      <th>priority_init</th>\n",
       "      <td></td>\n",
       "      <td></td>\n",
       "    </tr>\n",
       "    <tr>\n",
       "      <th>priority_final</th>\n",
       "      <td></td>\n",
       "      <td></td>\n",
       "    </tr>\n",
       "    <tr>\n",
       "      <th>product_cnt</th>\n",
       "      <td>1</td>\n",
       "      <td>1</td>\n",
       "    </tr>\n",
       "    <tr>\n",
       "      <th>product_init</th>\n",
       "      <td>core</td>\n",
       "      <td>core</td>\n",
       "    </tr>\n",
       "    <tr>\n",
       "      <th>product_final</th>\n",
       "      <td>core</td>\n",
       "      <td>core</td>\n",
       "    </tr>\n",
       "    <tr>\n",
       "      <th>resolution_cnt</th>\n",
       "      <td>2</td>\n",
       "      <td>2</td>\n",
       "    </tr>\n",
       "    <tr>\n",
       "      <th>resolution_init</th>\n",
       "      <td></td>\n",
       "      <td></td>\n",
       "    </tr>\n",
       "    <tr>\n",
       "      <th>resolution_final</th>\n",
       "      <td>fixed</td>\n",
       "      <td>duplicate</td>\n",
       "    </tr>\n",
       "    <tr>\n",
       "      <th>severity_cnt</th>\n",
       "      <td>1</td>\n",
       "      <td>1</td>\n",
       "    </tr>\n",
       "    <tr>\n",
       "      <th>severity_init</th>\n",
       "      <td>normal</td>\n",
       "      <td>normal</td>\n",
       "    </tr>\n",
       "    <tr>\n",
       "      <th>severity_final</th>\n",
       "      <td>normal</td>\n",
       "      <td>normal</td>\n",
       "    </tr>\n",
       "    <tr>\n",
       "      <th>short_desc_cnt</th>\n",
       "      <td>1</td>\n",
       "      <td>1</td>\n",
       "    </tr>\n",
       "    <tr>\n",
       "      <th>short_desc_init</th>\n",
       "      <td>misleading comments infixedtablelayout.h</td>\n",
       "      <td>characters disappear with xft if fallback trig...</td>\n",
       "    </tr>\n",
       "    <tr>\n",
       "      <th>short_desc_final</th>\n",
       "      <td>misleading comments infixedtablelayout.h</td>\n",
       "      <td>characters disappear with xft if fallback trig...</td>\n",
       "    </tr>\n",
       "    <tr>\n",
       "      <th>version_cnt</th>\n",
       "      <td>1</td>\n",
       "      <td>1</td>\n",
       "    </tr>\n",
       "    <tr>\n",
       "      <th>version_init</th>\n",
       "      <td>trunk</td>\n",
       "      <td>trunk</td>\n",
       "    </tr>\n",
       "    <tr>\n",
       "      <th>version_final</th>\n",
       "      <td>trunk</td>\n",
       "      <td>trunk</td>\n",
       "    </tr>\n",
       "    <tr>\n",
       "      <th>desc_init</th>\n",
       "      <td></td>\n",
       "      <td>User-Agent:       Mozilla/5.0 (X11; U; Linux i...</td>\n",
       "    </tr>\n",
       "    <tr>\n",
       "      <th>closing</th>\n",
       "      <td>2003-01-02 01:23:58</td>\n",
       "      <td>2003-03-10 06:32:02</td>\n",
       "    </tr>\n",
       "  </tbody>\n",
       "</table>\n",
       "</div>"
      ],
      "text/plain": [
       "                                                           0  \\\n",
       "id                                                    187257   \n",
       "opening                                  2002-12-31 06:38:20   \n",
       "reporter                                               17687   \n",
       "current_status                                      resolved   \n",
       "current_resolution                                     fixed   \n",
       "assigned_to_cnt                                            1   \n",
       "assigned_to_init                                               \n",
       "assigned_to_final                                              \n",
       "bug_status_cnt                                             2   \n",
       "bug_status_init                                          new   \n",
       "bug_status_final                                    resolved   \n",
       "cc_cnt                                                     1   \n",
       "cc_init                                                        \n",
       "cc_final                                                       \n",
       "component_cnt                                              1   \n",
       "component_init                                layout: tables   \n",
       "component_final                               layout: tables   \n",
       "op_sys_cnt                                                 1   \n",
       "op_sys_init                                       windows 98   \n",
       "op_sys_final                                      windows 98   \n",
       "priority_cnt                                               1   \n",
       "priority_init                                                  \n",
       "priority_final                                                 \n",
       "product_cnt                                                1   \n",
       "product_init                                            core   \n",
       "product_final                                           core   \n",
       "resolution_cnt                                             2   \n",
       "resolution_init                                                \n",
       "resolution_final                                       fixed   \n",
       "severity_cnt                                               1   \n",
       "severity_init                                         normal   \n",
       "severity_final                                        normal   \n",
       "short_desc_cnt                                             1   \n",
       "short_desc_init     misleading comments infixedtablelayout.h   \n",
       "short_desc_final    misleading comments infixedtablelayout.h   \n",
       "version_cnt                                                1   \n",
       "version_init                                           trunk   \n",
       "version_final                                          trunk   \n",
       "desc_init                                                      \n",
       "closing                                  2003-01-02 01:23:58   \n",
       "\n",
       "                                                                    1  \n",
       "id                                                             187377  \n",
       "opening                                           2003-01-01 14:49:54  \n",
       "reporter                                                        81611  \n",
       "current_status                                               resolved  \n",
       "current_resolution                                          duplicate  \n",
       "assigned_to_cnt                                                     2  \n",
       "assigned_to_init                                     font@layout.bugs  \n",
       "assigned_to_final                                blizzard@mozilla.org  \n",
       "bug_status_cnt                                                      2  \n",
       "bug_status_init                                           unconfirmed  \n",
       "bug_status_final                                             resolved  \n",
       "cc_cnt                                                              2  \n",
       "cc_init                                                                \n",
       "cc_final                                        anthony@thizlinux.com  \n",
       "component_cnt                                                       1  \n",
       "component_init                                           layout: text  \n",
       "component_final                                          layout: text  \n",
       "op_sys_cnt                                                          1  \n",
       "op_sys_init                                                     linux  \n",
       "op_sys_final                                                    linux  \n",
       "priority_cnt                                                        1  \n",
       "priority_init                                                          \n",
       "priority_final                                                         \n",
       "product_cnt                                                         1  \n",
       "product_init                                                     core  \n",
       "product_final                                                    core  \n",
       "resolution_cnt                                                      2  \n",
       "resolution_init                                                        \n",
       "resolution_final                                            duplicate  \n",
       "severity_cnt                                                        1  \n",
       "severity_init                                                  normal  \n",
       "severity_final                                                 normal  \n",
       "short_desc_cnt                                                      1  \n",
       "short_desc_init     characters disappear with xft if fallback trig...  \n",
       "short_desc_final    characters disappear with xft if fallback trig...  \n",
       "version_cnt                                                         1  \n",
       "version_init                                                    trunk  \n",
       "version_final                                                   trunk  \n",
       "desc_init           User-Agent:       Mozilla/5.0 (X11; U; Linux i...  \n",
       "closing                                           2003-03-10 06:32:02  "
      ]
     },
     "execution_count": 3,
     "metadata": {},
     "output_type": "execute_result"
    }
   ],
   "source": [
    "df_mini = pd.read_sql_query('select * from final limit 10',con=engine)\n",
    "df_mini.head(2).T"
   ]
  },
  {
   "cell_type": "markdown",
   "metadata": {},
   "source": [
    "### Check Statistics\n",
    "\n",
    "Load all data"
   ]
  },
  {
   "cell_type": "code",
   "execution_count": 4,
   "metadata": {
    "collapsed": false
   },
   "outputs": [],
   "source": [
    "df = pd.read_sql_query('select * from final',con=engine)"
   ]
  },
  {
   "cell_type": "markdown",
   "metadata": {},
   "source": [
    "Sanity check\n",
    "\n",
    "- Does `reports.current_resolution` correspond with the last `resolution.when`?\n",
    "  - Yes, there are only 4 differences (all of them verified vs fixed, not a big deal)\n",
    "- Does `reports.current_resolution` correspond with the last `bug_status.when`?\n",
    "  - Mostly, there are 31 differences"
   ]
  },
  {
   "cell_type": "code",
   "execution_count": 5,
   "metadata": {
    "collapsed": false
   },
   "outputs": [
    {
     "data": {
      "text/html": [
       "<div>\n",
       "<table border=\"1\" class=\"dataframe\">\n",
       "  <thead>\n",
       "    <tr style=\"text-align: right;\">\n",
       "      <th></th>\n",
       "      <th>id</th>\n",
       "      <th>opening</th>\n",
       "      <th>reporter</th>\n",
       "      <th>current_status</th>\n",
       "      <th>current_resolution</th>\n",
       "      <th>assigned_to_cnt</th>\n",
       "      <th>assigned_to_init</th>\n",
       "      <th>assigned_to_final</th>\n",
       "      <th>bug_status_cnt</th>\n",
       "      <th>bug_status_init</th>\n",
       "      <th>...</th>\n",
       "      <th>severity_init</th>\n",
       "      <th>severity_final</th>\n",
       "      <th>short_desc_cnt</th>\n",
       "      <th>short_desc_init</th>\n",
       "      <th>short_desc_final</th>\n",
       "      <th>version_cnt</th>\n",
       "      <th>version_init</th>\n",
       "      <th>version_final</th>\n",
       "      <th>desc_init</th>\n",
       "      <th>closing</th>\n",
       "    </tr>\n",
       "  </thead>\n",
       "  <tbody>\n",
       "    <tr>\n",
       "      <th>154284</th>\n",
       "      <td>6898</td>\n",
       "      <td>1999-05-21 10:10:06</td>\n",
       "      <td>3851</td>\n",
       "      <td>verified</td>\n",
       "      <td>fixed</td>\n",
       "      <td>1</td>\n",
       "      <td></td>\n",
       "      <td></td>\n",
       "      <td>5</td>\n",
       "      <td>new</td>\n",
       "      <td>...</td>\n",
       "      <td>major</td>\n",
       "      <td>major</td>\n",
       "      <td>1</td>\n",
       "      <td>ime bug-cannot move cursor to select the chara...</td>\n",
       "      <td>ime bug-cannot move cursor to select the chara...</td>\n",
       "      <td>1</td>\n",
       "      <td>trunk</td>\n",
       "      <td>trunk</td>\n",
       "      <td>Tested 5-21-09 Win32 build.\\n\\nStep of reprodu...</td>\n",
       "      <td>1999-07-07 06:37:43</td>\n",
       "    </tr>\n",
       "    <tr>\n",
       "      <th>195163</th>\n",
       "      <td>6429</td>\n",
       "      <td>1999-05-14 10:33:10</td>\n",
       "      <td>4346</td>\n",
       "      <td>verified</td>\n",
       "      <td>fixed</td>\n",
       "      <td>1</td>\n",
       "      <td></td>\n",
       "      <td></td>\n",
       "      <td>4</td>\n",
       "      <td>assigned</td>\n",
       "      <td>...</td>\n",
       "      <td>normal</td>\n",
       "      <td>normal</td>\n",
       "      <td>2</td>\n",
       "      <td>accountmanager.xul: non-localizable xul file</td>\n",
       "      <td>accountmanager.xul: non-localized xul file</td>\n",
       "      <td>1</td>\n",
       "      <td>trunk</td>\n",
       "      <td>trunk</td>\n",
       "      <td>Please refer to the \"XUL Coding Style Guidelin...</td>\n",
       "      <td>1999-06-16 16:40:56</td>\n",
       "    </tr>\n",
       "    <tr>\n",
       "      <th>277316</th>\n",
       "      <td>7470</td>\n",
       "      <td>1999-06-02 09:00:08</td>\n",
       "      <td>4114</td>\n",
       "      <td>verified</td>\n",
       "      <td>fixed</td>\n",
       "      <td>6</td>\n",
       "      <td>ducarroz@netscape.com</td>\n",
       "      <td>tague@netscape.com</td>\n",
       "      <td>8</td>\n",
       "      <td>new</td>\n",
       "      <td>...</td>\n",
       "      <td>major</td>\n",
       "      <td>major</td>\n",
       "      <td>2</td>\n",
       "      <td>[pp]linux only, backspace in compose area put ...</td>\n",
       "      <td>backspace in compose area put chinese word \"re...</td>\n",
       "      <td>1</td>\n",
       "      <td>trunk</td>\n",
       "      <td>trunk</td>\n",
       "      <td>Using 19990602008m7 build for linux on an HP V...</td>\n",
       "      <td>1999-06-08 08:07:27</td>\n",
       "    </tr>\n",
       "    <tr>\n",
       "      <th>318561</th>\n",
       "      <td>10359</td>\n",
       "      <td>1999-07-22 14:42:03</td>\n",
       "      <td>1689</td>\n",
       "      <td>verified</td>\n",
       "      <td>fixed</td>\n",
       "      <td>2</td>\n",
       "      <td>troy@netscape.com</td>\n",
       "      <td>dveditz@netscape.com</td>\n",
       "      <td>8</td>\n",
       "      <td>new</td>\n",
       "      <td>...</td>\n",
       "      <td>major</td>\n",
       "      <td>major</td>\n",
       "      <td>1</td>\n",
       "      <td>[8.3] raptor .dll names too long for win9x</td>\n",
       "      <td>[8.3] raptor .dll names too long for win9x</td>\n",
       "      <td>1</td>\n",
       "      <td>trunk</td>\n",
       "      <td>trunk</td>\n",
       "      <td>Raptor .DLL names need to be 8.3 on Win9x.  Se...</td>\n",
       "      <td>1999-07-23 14:24:36</td>\n",
       "    </tr>\n",
       "  </tbody>\n",
       "</table>\n",
       "<p>4 rows × 40 columns</p>\n",
       "</div>"
      ],
      "text/plain": [
       "           id             opening  reporter current_status current_resolution  \\\n",
       "154284   6898 1999-05-21 10:10:06      3851       verified              fixed   \n",
       "195163   6429 1999-05-14 10:33:10      4346       verified              fixed   \n",
       "277316   7470 1999-06-02 09:00:08      4114       verified              fixed   \n",
       "318561  10359 1999-07-22 14:42:03      1689       verified              fixed   \n",
       "\n",
       "        assigned_to_cnt       assigned_to_init     assigned_to_final  \\\n",
       "154284                1                                                \n",
       "195163                1                                                \n",
       "277316                6  ducarroz@netscape.com    tague@netscape.com   \n",
       "318561                2      troy@netscape.com  dveditz@netscape.com   \n",
       "\n",
       "        bug_status_cnt bug_status_init         ...         severity_init  \\\n",
       "154284               5             new         ...                 major   \n",
       "195163               4        assigned         ...                normal   \n",
       "277316               8             new         ...                 major   \n",
       "318561               8             new         ...                 major   \n",
       "\n",
       "        severity_final short_desc_cnt  \\\n",
       "154284           major              1   \n",
       "195163          normal              2   \n",
       "277316           major              2   \n",
       "318561           major              1   \n",
       "\n",
       "                                          short_desc_init  \\\n",
       "154284  ime bug-cannot move cursor to select the chara...   \n",
       "195163       accountmanager.xul: non-localizable xul file   \n",
       "277316  [pp]linux only, backspace in compose area put ...   \n",
       "318561         [8.3] raptor .dll names too long for win9x   \n",
       "\n",
       "                                         short_desc_final version_cnt  \\\n",
       "154284  ime bug-cannot move cursor to select the chara...           1   \n",
       "195163         accountmanager.xul: non-localized xul file           1   \n",
       "277316  backspace in compose area put chinese word \"re...           1   \n",
       "318561         [8.3] raptor .dll names too long for win9x           1   \n",
       "\n",
       "       version_init  version_final  \\\n",
       "154284        trunk          trunk   \n",
       "195163        trunk          trunk   \n",
       "277316        trunk          trunk   \n",
       "318561        trunk          trunk   \n",
       "\n",
       "                                                desc_init             closing  \n",
       "154284  Tested 5-21-09 Win32 build.\\n\\nStep of reprodu... 1999-07-07 06:37:43  \n",
       "195163  Please refer to the \"XUL Coding Style Guidelin... 1999-06-16 16:40:56  \n",
       "277316  Using 19990602008m7 build for linux on an HP V... 1999-06-08 08:07:27  \n",
       "318561  Raptor .DLL names need to be 8.3 on Win9x.  Se... 1999-07-23 14:24:36  \n",
       "\n",
       "[4 rows x 40 columns]"
      ]
     },
     "execution_count": 5,
     "metadata": {},
     "output_type": "execute_result"
    }
   ],
   "source": [
    "df[df['resolution_final'] != df['current_resolution']]"
   ]
  },
  {
   "cell_type": "code",
   "execution_count": 6,
   "metadata": {
    "collapsed": false
   },
   "outputs": [
    {
     "data": {
      "text/plain": [
       "31"
      ]
     },
     "execution_count": 6,
     "metadata": {},
     "output_type": "execute_result"
    }
   ],
   "source": [
    "df[df['bug_status_final'] != df['current_status']]['id'].count()"
   ]
  },
  {
   "cell_type": "markdown",
   "metadata": {},
   "source": [
    "Clean up\n",
    "\n",
    "- calc duration\n",
    "- remove enhancements\n",
    "- unify priority ('--' > '')"
   ]
  },
  {
   "cell_type": "code",
   "execution_count": 7,
   "metadata": {
    "collapsed": true
   },
   "outputs": [],
   "source": [
    "df['duration'] = df['closing'] - df['opening']\n",
    "df = df[df['severity_init'] != 'enhancement']\n",
    "df['priority_init'] = df['priority_init'].map(lambda x: '' if x == '--' else x)\n",
    "df['priority_final'] = df['priority_final'].map(lambda x: '' if x == '--' else x)"
   ]
  },
  {
   "cell_type": "markdown",
   "metadata": {},
   "source": [
    "Explore dates"
   ]
  },
  {
   "cell_type": "code",
   "execution_count": 8,
   "metadata": {
    "collapsed": false
   },
   "outputs": [
    {
     "name": "stdout",
     "output_type": "stream",
     "text": [
      "1996-03-11 07:00:00 2013-01-01 03:45:27\n",
      "1998-08-27 05:56:51 2013-01-01 09:00:59\n"
     ]
    }
   ],
   "source": [
    "print df['opening'].min(), df['opening'].max()\n",
    "print df['closing'].min(), df['closing'].max()"
   ]
  },
  {
   "cell_type": "markdown",
   "metadata": {},
   "source": [
    "Look at overall statistics"
   ]
  },
  {
   "cell_type": "code",
   "execution_count": 9,
   "metadata": {
    "collapsed": false
   },
   "outputs": [
    {
     "data": {
      "text/html": [
       "<div>\n",
       "<table border=\"1\" class=\"dataframe\">\n",
       "  <thead>\n",
       "    <tr style=\"text-align: right;\">\n",
       "      <th></th>\n",
       "      <th>count</th>\n",
       "      <th>mean</th>\n",
       "      <th>std</th>\n",
       "      <th>min</th>\n",
       "      <th>25%</th>\n",
       "      <th>50%</th>\n",
       "      <th>75%</th>\n",
       "      <th>max</th>\n",
       "    </tr>\n",
       "  </thead>\n",
       "  <tbody>\n",
       "    <tr>\n",
       "      <th>id</th>\n",
       "      <td>310947</td>\n",
       "      <td>365961</td>\n",
       "      <td>220880</td>\n",
       "      <td>91</td>\n",
       "      <td>189293</td>\n",
       "      <td>352613</td>\n",
       "      <td>534812</td>\n",
       "      <td>825743</td>\n",
       "    </tr>\n",
       "    <tr>\n",
       "      <th>reporter</th>\n",
       "      <td>310947</td>\n",
       "      <td>156293</td>\n",
       "      <td>140354</td>\n",
       "      <td>1</td>\n",
       "      <td>20209</td>\n",
       "      <td>120380</td>\n",
       "      <td>282666</td>\n",
       "      <td>459470</td>\n",
       "    </tr>\n",
       "    <tr>\n",
       "      <th>assigned_to_cnt</th>\n",
       "      <td>310947</td>\n",
       "      <td>1.48021</td>\n",
       "      <td>0.840451</td>\n",
       "      <td>1</td>\n",
       "      <td>1</td>\n",
       "      <td>1</td>\n",
       "      <td>2</td>\n",
       "      <td>25</td>\n",
       "    </tr>\n",
       "    <tr>\n",
       "      <th>bug_status_cnt</th>\n",
       "      <td>310947</td>\n",
       "      <td>2.81843</td>\n",
       "      <td>1.30286</td>\n",
       "      <td>1</td>\n",
       "      <td>2</td>\n",
       "      <td>2</td>\n",
       "      <td>3</td>\n",
       "      <td>27</td>\n",
       "    </tr>\n",
       "    <tr>\n",
       "      <th>cc_cnt</th>\n",
       "      <td>310947</td>\n",
       "      <td>3.93562</td>\n",
       "      <td>5.78503</td>\n",
       "      <td>1</td>\n",
       "      <td>2</td>\n",
       "      <td>3</td>\n",
       "      <td>4</td>\n",
       "      <td>466</td>\n",
       "    </tr>\n",
       "    <tr>\n",
       "      <th>component_cnt</th>\n",
       "      <td>310947</td>\n",
       "      <td>1.28391</td>\n",
       "      <td>0.582393</td>\n",
       "      <td>1</td>\n",
       "      <td>1</td>\n",
       "      <td>1</td>\n",
       "      <td>1</td>\n",
       "      <td>13</td>\n",
       "    </tr>\n",
       "    <tr>\n",
       "      <th>op_sys_cnt</th>\n",
       "      <td>310947</td>\n",
       "      <td>1.11667</td>\n",
       "      <td>0.346803</td>\n",
       "      <td>1</td>\n",
       "      <td>1</td>\n",
       "      <td>1</td>\n",
       "      <td>1</td>\n",
       "      <td>7</td>\n",
       "    </tr>\n",
       "    <tr>\n",
       "      <th>priority_cnt</th>\n",
       "      <td>310947</td>\n",
       "      <td>1.10754</td>\n",
       "      <td>0.369123</td>\n",
       "      <td>1</td>\n",
       "      <td>1</td>\n",
       "      <td>1</td>\n",
       "      <td>1</td>\n",
       "      <td>9</td>\n",
       "    </tr>\n",
       "    <tr>\n",
       "      <th>product_cnt</th>\n",
       "      <td>310947</td>\n",
       "      <td>1.09418</td>\n",
       "      <td>0.335785</td>\n",
       "      <td>1</td>\n",
       "      <td>1</td>\n",
       "      <td>1</td>\n",
       "      <td>1</td>\n",
       "      <td>7</td>\n",
       "    </tr>\n",
       "    <tr>\n",
       "      <th>resolution_cnt</th>\n",
       "      <td>310947</td>\n",
       "      <td>2.20097</td>\n",
       "      <td>0.688984</td>\n",
       "      <td>1</td>\n",
       "      <td>2</td>\n",
       "      <td>2</td>\n",
       "      <td>2</td>\n",
       "      <td>20</td>\n",
       "    </tr>\n",
       "    <tr>\n",
       "      <th>severity_cnt</th>\n",
       "      <td>310947</td>\n",
       "      <td>1.09926</td>\n",
       "      <td>0.344292</td>\n",
       "      <td>1</td>\n",
       "      <td>1</td>\n",
       "      <td>1</td>\n",
       "      <td>1</td>\n",
       "      <td>14</td>\n",
       "    </tr>\n",
       "    <tr>\n",
       "      <th>short_desc_cnt</th>\n",
       "      <td>310947</td>\n",
       "      <td>1.23791</td>\n",
       "      <td>0.601406</td>\n",
       "      <td>1</td>\n",
       "      <td>1</td>\n",
       "      <td>1</td>\n",
       "      <td>1</td>\n",
       "      <td>31</td>\n",
       "    </tr>\n",
       "    <tr>\n",
       "      <th>version_cnt</th>\n",
       "      <td>310947</td>\n",
       "      <td>1.18328</td>\n",
       "      <td>0.446423</td>\n",
       "      <td>1</td>\n",
       "      <td>1</td>\n",
       "      <td>1</td>\n",
       "      <td>1</td>\n",
       "      <td>10</td>\n",
       "    </tr>\n",
       "    <tr>\n",
       "      <th>duration</th>\n",
       "      <td>310947</td>\n",
       "      <td>206 days 18:34:58.243462</td>\n",
       "      <td>451 days 15:06:01.450312</td>\n",
       "      <td>0 days 00:00:00</td>\n",
       "      <td>0 days 18:38:06.500000</td>\n",
       "      <td>16 days 12:30:30</td>\n",
       "      <td>183 days 09:30:08.500000</td>\n",
       "      <td>4767 days 04:37:06</td>\n",
       "    </tr>\n",
       "  </tbody>\n",
       "</table>\n",
       "</div>"
      ],
      "text/plain": [
       "                  count                      mean                       std  \\\n",
       "id               310947                    365961                    220880   \n",
       "reporter         310947                    156293                    140354   \n",
       "assigned_to_cnt  310947                   1.48021                  0.840451   \n",
       "bug_status_cnt   310947                   2.81843                   1.30286   \n",
       "cc_cnt           310947                   3.93562                   5.78503   \n",
       "component_cnt    310947                   1.28391                  0.582393   \n",
       "op_sys_cnt       310947                   1.11667                  0.346803   \n",
       "priority_cnt     310947                   1.10754                  0.369123   \n",
       "product_cnt      310947                   1.09418                  0.335785   \n",
       "resolution_cnt   310947                   2.20097                  0.688984   \n",
       "severity_cnt     310947                   1.09926                  0.344292   \n",
       "short_desc_cnt   310947                   1.23791                  0.601406   \n",
       "version_cnt      310947                   1.18328                  0.446423   \n",
       "duration         310947  206 days 18:34:58.243462  451 days 15:06:01.450312   \n",
       "\n",
       "                             min                     25%               50%  \\\n",
       "id                            91                  189293            352613   \n",
       "reporter                       1                   20209            120380   \n",
       "assigned_to_cnt                1                       1                 1   \n",
       "bug_status_cnt                 1                       2                 2   \n",
       "cc_cnt                         1                       2                 3   \n",
       "component_cnt                  1                       1                 1   \n",
       "op_sys_cnt                     1                       1                 1   \n",
       "priority_cnt                   1                       1                 1   \n",
       "product_cnt                    1                       1                 1   \n",
       "resolution_cnt                 1                       2                 2   \n",
       "severity_cnt                   1                       1                 1   \n",
       "short_desc_cnt                 1                       1                 1   \n",
       "version_cnt                    1                       1                 1   \n",
       "duration         0 days 00:00:00  0 days 18:38:06.500000  16 days 12:30:30   \n",
       "\n",
       "                                      75%                 max  \n",
       "id                                 534812              825743  \n",
       "reporter                           282666              459470  \n",
       "assigned_to_cnt                         2                  25  \n",
       "bug_status_cnt                          3                  27  \n",
       "cc_cnt                                  4                 466  \n",
       "component_cnt                           1                  13  \n",
       "op_sys_cnt                              1                   7  \n",
       "priority_cnt                            1                   9  \n",
       "product_cnt                             1                   7  \n",
       "resolution_cnt                          2                  20  \n",
       "severity_cnt                            1                  14  \n",
       "short_desc_cnt                          1                  31  \n",
       "version_cnt                             1                  10  \n",
       "duration         183 days 09:30:08.500000  4767 days 04:37:06  "
      ]
     },
     "execution_count": 9,
     "metadata": {},
     "output_type": "execute_result"
    }
   ],
   "source": [
    "df.describe().T"
   ]
  },
  {
   "cell_type": "markdown",
   "metadata": {},
   "source": [
    "### Reassignments\n",
    "\n",
    "How much do bugs get reassigned to different priorities, components...?"
   ]
  },
  {
   "cell_type": "code",
   "execution_count": 10,
   "metadata": {
    "collapsed": false
   },
   "outputs": [
    {
     "name": "stdout",
     "output_type": "stream",
     "text": [
      "310947 bugs in total\n",
      " 27319 (8.79%) bugs end up with different priority\n",
      " 26028 (8.37%) bugs end up with different severity\n",
      " 67343 (21.66%) bugs end up with different component\n",
      " 24568 (7.90%) bugs end up with different product\n"
     ]
    }
   ],
   "source": [
    "total = len(df)\n",
    "priority = sum(df['priority_init'] != df['priority_final'])\n",
    "severity = sum(df['severity_init'] != df['severity_final'])\n",
    "component = sum(df['component_init'] != df['component_final'])\n",
    "product = sum(df['product_init'] != df['product_final'])\n",
    "\n",
    "print '{} bugs in total'.format(total)\n",
    "print ' {} ({:0.2f}%) bugs end up with different priority'.format(priority, priority*100/total)\n",
    "print ' {} ({:0.2f}%) bugs end up with different severity'.format(severity, severity*100/total)\n",
    "print ' {} ({:0.2f}%) bugs end up with different component'.format(component, component*100/total)\n",
    "print ' {} ({:0.2f}%) bugs end up with different product'.format(product, product*100/total)"
   ]
  },
  {
   "cell_type": "markdown",
   "metadata": {},
   "source": [
    "### Unique Values (and Counts)\n",
    "\n",
    "How many distinct values do we have for interesting attributes?"
   ]
  },
  {
   "cell_type": "code",
   "execution_count": 11,
   "metadata": {
    "collapsed": false
   },
   "outputs": [
    {
     "name": "stdout",
     "output_type": "stream",
     "text": [
      "6 unique priorities\n",
      "7 unique severities\n",
      "730 unique components\n",
      "69 unique products\n"
     ]
    }
   ],
   "source": [
    "print '{} unique priorities'.format(df['priority_init'].nunique())\n",
    "print '{} unique severities'.format(df['severity_init'].nunique())\n",
    "print '{} unique components'.format(df['component_init'].nunique())\n",
    "print '{} unique products'.format(df['product_init'].nunique())"
   ]
  },
  {
   "cell_type": "code",
   "execution_count": 12,
   "metadata": {
    "collapsed": false
   },
   "outputs": [
    {
     "name": "stdout",
     "output_type": "stream",
     "text": [
      "values and counts for initial priority:\n",
      "      306187\n",
      "p3      4483\n",
      "p2       202\n",
      "p1        53\n",
      "p5        12\n",
      "p4        10\n",
      "Name: priority_init, dtype: int64\n",
      "values and counts for initial severity:\n",
      "normal      222705\n",
      "major        32778\n",
      "critical     28759\n",
      "minor        16436\n",
      "trivial       6719\n",
      "blocker       3549\n",
      "                 1\n",
      "Name: severity_init, dtype: int64\n"
     ]
    }
   ],
   "source": [
    "print 'values and counts for initial priority:'\n",
    "print df['priority_init'].value_counts()\n",
    "\n",
    "print 'values and counts for initial severity:'\n",
    "print df['severity_init'].value_counts()"
   ]
  },
  {
   "cell_type": "markdown",
   "metadata": {},
   "source": [
    "Components are out of the game - there are too many.\n",
    "\n",
    "Products could still be doable. What if we keep only top few products? How does it change the reassignment rate?"
   ]
  },
  {
   "cell_type": "code",
   "execution_count": 13,
   "metadata": {
    "collapsed": false
   },
   "outputs": [
    {
     "data": {
      "text/plain": [
       "core                         153369\n",
       "firefox                      109664\n",
       "thunderbird                   27645\n",
       "bugzilla                      10437\n",
       "browser                        2082\n",
       "psm                            1418\n",
       "webtools                       1375\n",
       "mozilla application suite       800\n",
       "mailnews                        624\n",
       "mozilla.org                     421\n",
       "Name: product_init, dtype: int64"
      ]
     },
     "execution_count": 13,
     "metadata": {},
     "output_type": "execute_result"
    }
   ],
   "source": [
    "df['product_init'].value_counts().head(10)"
   ]
  },
  {
   "cell_type": "code",
   "execution_count": 14,
   "metadata": {
    "collapsed": false
   },
   "outputs": [
    {
     "name": "stdout",
     "output_type": "stream",
     "text": [
      "310947 bugs in total\n",
      " 24528 (7.89%) bugs end up with different product\n"
     ]
    }
   ],
   "source": [
    "top_products = ['core', 'firefox', 'thunderbird', 'bugzilla', 'browser', 'webtools', 'psm']\n",
    "df['top_product_init'] = df['product_init'].map(lambda x: x if x in top_products else 'other')\n",
    "df['top_product_final'] = df['product_final'].map(lambda x: x if x in top_products else 'other')\n",
    "\n",
    "top_product = sum(df['top_product_init'] != df['top_product_final'])\n",
    "\n",
    "print '{} bugs in total'.format(total)\n",
    "print ' {} ({:0.2f}%) bugs end up with different product'.format(top_product, top_product*100/total)"
   ]
  },
  {
   "cell_type": "markdown",
   "metadata": {},
   "source": [
    "### Duplicates\n",
    "\n",
    "How many duplicates are there?"
   ]
  },
  {
   "cell_type": "code",
   "execution_count": 15,
   "metadata": {
    "collapsed": false
   },
   "outputs": [
    {
     "name": "stdout",
     "output_type": "stream",
     "text": [
      "final resolution - note the amount of duplicates:\n",
      "fixed         110143\n",
      "duplicate      82770\n",
      "worksforme     47813\n",
      "invalid        34219\n",
      "incomplete     21548\n",
      "wontfix         9843\n",
      "expired         4593\n",
      "moved             14\n",
      "                   4\n",
      "Name: resolution_final, dtype: int64\n"
     ]
    }
   ],
   "source": [
    "print 'final resolution - note the amount of duplicates:'\n",
    "print df['resolution_final'].value_counts()"
   ]
  },
  {
   "cell_type": "markdown",
   "metadata": {},
   "source": [
    "### Resolution Time\n"
   ]
  },
  {
   "cell_type": "code",
   "execution_count": 16,
   "metadata": {
    "collapsed": false
   },
   "outputs": [],
   "source": [
    "df['duration_days'] = df['duration'].apply(lambda x: float(x.days))"
   ]
  },
  {
   "cell_type": "code",
   "execution_count": 17,
   "metadata": {
    "collapsed": false
   },
   "outputs": [
    {
     "data": {
      "text/plain": [
       "count    310947.000000\n",
       "mean        206.352951\n",
       "std         451.593985\n",
       "min           0.000000\n",
       "25%           0.000000\n",
       "50%          16.000000\n",
       "75%         183.000000\n",
       "max        4767.000000\n",
       "Name: duration_days, dtype: float64"
      ]
     },
     "execution_count": 17,
     "metadata": {},
     "output_type": "execute_result"
    }
   ],
   "source": [
    "df['duration_days'].describe().T"
   ]
  },
  {
   "cell_type": "code",
   "execution_count": 18,
   "metadata": {
    "collapsed": false
   },
   "outputs": [
    {
     "data": {
      "image/png": "[encoded data removed]",
      "text/plain": [
       "<matplotlib.figure.Figure at 0x1160a9290>"
      ]
     },
     "metadata": {},
     "output_type": "display_data"
    }
   ],
   "source": [
    "_ = df['duration_days'].hist(bins=100)"
   ]
  },
  {
   "cell_type": "code",
   "execution_count": 19,
   "metadata": {
    "collapsed": false
   },
   "outputs": [],
   "source": [
    "df['duration_bin'] = pd.cut(df['duration_days'], bins=[0,1,7,30,365,10000], right=True, labels=False)\n",
    "#labels=['day','week','month','year','more']"
   ]
  },
  {
   "cell_type": "code",
   "execution_count": 20,
   "metadata": {
    "collapsed": false
   },
   "outputs": [
    {
     "data": {
      "image/png": "[encoded data removed]",
      "text/plain": [
       "<matplotlib.figure.Figure at 0x172d2c610>"
      ]
     },
     "metadata": {},
     "output_type": "display_data"
    }
   ],
   "source": [
    "_ = df['duration_bin'].hist()"
   ]
  },
  {
   "cell_type": "code",
   "execution_count": 21,
   "metadata": {
    "collapsed": false
   },
   "outputs": [
    {
     "data": {
      "text/plain": [
       "3.0    82785\n",
       "4.0    53125\n",
       "2.0    40117\n",
       "1.0    35255\n",
       "0.0    14804\n",
       "Name: duration_bin, dtype: int64"
      ]
     },
     "execution_count": 21,
     "metadata": {},
     "output_type": "execute_result"
    }
   ],
   "source": [
    "df['duration_bin'].value_counts()"
   ]
  },
  {
   "cell_type": "code",
   "execution_count": null,
   "metadata": {
    "collapsed": true
   },
   "outputs": [],
   "source": []
  }
 ],
 "metadata": {
  "kernelspec": {
   "display_name": "Python 2",
   "language": "python",
   "name": "python2"
  },
  "language_info": {
   "codemirror_mode": {
    "name": "ipython",
    "version": 2
   },
   "file_extension": ".py",
   "mimetype": "text/x-python",
   "name": "python",
   "nbconvert_exporter": "python",
   "pygments_lexer": "ipython2",
   "version": "2.7.12"
  }
 },
 "nbformat": 4,
 "nbformat_minor": 0
}
