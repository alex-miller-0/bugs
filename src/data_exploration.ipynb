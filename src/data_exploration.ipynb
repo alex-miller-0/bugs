{
 "cells": [
  {
   "cell_type": "code",
   "execution_count": 28,
   "metadata": {
    "collapsed": true
   },
   "outputs": [],
   "source": [
    "from __future__ import division\n",
    "import pymongo\n",
    "import json"
   ]
  },
  {
   "cell_type": "code",
   "execution_count": 84,
   "metadata": {
    "collapsed": true
   },
   "outputs": [],
   "source": [
    "data_files = ['assigned_to',\n",
    "              'bug_status',\n",
    "              'cc',\n",
    "              'component',\n",
    "              'op_sys',\n",
    "              'priority',\n",
    "              'product',\n",
    "              'reports',\n",
    "              'resolution',\n",
    "              'severity',\n",
    "              'short_desc',\n",
    "              'version']"
   ]
  },
  {
   "cell_type": "code",
   "execution_count": 3,
   "metadata": {
    "collapsed": true
   },
   "outputs": [],
   "source": [
    "mc = pymongo.MongoClient()\n",
    "db = mc['bugs']"
   ]
  },
  {
   "cell_type": "code",
   "execution_count": 18,
   "metadata": {
    "collapsed": false
   },
   "outputs": [
    {
     "name": "stdout",
     "output_type": "stream",
     "text": [
      "assigned_to    582,668\n",
      "bug_status   1,026,480\n",
      "cc           1,648,136\n",
      "component      509,746\n",
      "op_sys         442,897\n",
      "priority       436,623\n",
      "product        435,628\n",
      "reports        394,878\n",
      "resolution     800,080\n",
      "severity       434,078\n",
      "short_desc     491,657\n",
      "version        469,073\n"
     ]
    }
   ],
   "source": [
    "for json_file in data_files:\n",
    "    coll = db[json_file]\n",
    "    print '{:12s} {:9,.0f}'.format(json_file, coll.count()) "
   ]
  },
  {
   "cell_type": "code",
   "execution_count": 85,
   "metadata": {
    "collapsed": false
   },
   "outputs": [
    {
     "name": "stdout",
     "output_type": "stream",
     "text": [
      "assigned_to\n",
      "\twhat                <type 'NoneType'>  None        \n",
      "\twho                 <type 'int'>       111157      \n",
      "\twhen                <type 'int'>       1111425133  \n",
      "\tid                  <type 'unicode'>   287144      \n",
      "\n",
      "bug_status\n",
      "\twhat                <type 'unicode'>   UNCONFIRMED \n",
      "\twho                 <type 'int'>       111157      \n",
      "\twhen                <type 'int'>       1111425133  \n",
      "\tid                  <type 'unicode'>   287144      \n",
      "\n",
      "cc\n",
      "\twhat                <type 'unicode'>               \n",
      "\twho                 <type 'int'>       111157      \n",
      "\twhen                <type 'int'>       1111425133  \n",
      "\tid                  <type 'unicode'>   287144      \n",
      "\n",
      "component\n",
      "\twhat                <type 'unicode'>   General     \n",
      "\twho                 <type 'int'>       111157      \n",
      "\twhen                <type 'int'>       1111425133  \n",
      "\tid                  <type 'unicode'>   287144      \n",
      "\n",
      "op_sys\n",
      "\twhat                <type 'unicode'>   Linux       \n",
      "\twho                 <type 'int'>       111157      \n",
      "\twhen                <type 'int'>       1111425133  \n",
      "\tid                  <type 'unicode'>   287144      \n",
      "\n",
      "priority\n",
      "\twhat                <type 'NoneType'>  None        \n",
      "\twho                 <type 'int'>       111157      \n",
      "\twhen                <type 'int'>       1111425133  \n",
      "\tid                  <type 'unicode'>   287144      \n",
      "\n",
      "product\n",
      "\twhat                <type 'unicode'>   Firefox     \n",
      "\twho                 <type 'int'>       111157      \n",
      "\twhen                <type 'int'>       1111425133  \n",
      "\tid                  <type 'unicode'>   287144      \n",
      "\n",
      "reports\n",
      "\tcurrent_status      <type 'unicode'>   RESOLVED    \n",
      "\treporter            <type 'int'>       111157      \n",
      "\tid                  <type 'unicode'>   287144      \n",
      "\tcurrent_resolution  <type 'unicode'>   WORKSFORME  \n",
      "\topening             <type 'int'>       1111425133  \n",
      "\n",
      "resolution\n",
      "\twhat                <type 'unicode'>               \n",
      "\twho                 <type 'int'>       111157      \n",
      "\twhen                <type 'int'>       1111425133  \n",
      "\tid                  <type 'unicode'>   287144      \n",
      "\n",
      "severity\n",
      "\twhat                <type 'unicode'>   normal      \n",
      "\twho                 <type 'int'>       111157      \n",
      "\twhen                <type 'int'>       1111425133  \n",
      "\tid                  <type 'unicode'>   287144      \n",
      "\n",
      "short_desc\n",
      "\twhat                <type 'unicode'>   in some webs  this type of menu list doesn't work \n",
      "\twho                 <type 'int'>       111157      \n",
      "\twhen                <type 'int'>       1111425133  \n",
      "\tid                  <type 'unicode'>   287144      \n",
      "\n",
      "version\n",
      "\twhat                <type 'unicode'>   unspecified \n",
      "\twho                 <type 'int'>       111157      \n",
      "\twhen                <type 'int'>       1111425133  \n",
      "\tid                  <type 'unicode'>   287144      \n",
      "\n"
     ]
    }
   ],
   "source": [
    "for json_file in data_files:\n",
    "    coll = db[json_file]\n",
    "    first_line = eval(str(coll.find_one({}, {'_id': False}))) #filter out _id assigned by mongodb\n",
    "    print json_file\n",
    "    for key, val in first_line.iteritems():\n",
    "        print '\\t{:19s} {:18s} {:12s}'.format(key, type(val), str(val)) \n",
    "    print"
   ]
  },
  {
   "cell_type": "code",
   "execution_count": null,
   "metadata": {
    "collapsed": true
   },
   "outputs": [],
   "source": []
  }
 ],
 "metadata": {
  "kernelspec": {
   "display_name": "Python 2",
   "language": "python",
   "name": "python2"
  },
  "language_info": {
   "codemirror_mode": {
    "name": "ipython",
    "version": 2
   },
   "file_extension": ".py",
   "mimetype": "text/x-python",
   "name": "python",
   "nbconvert_exporter": "python",
   "pygments_lexer": "ipython2",
   "version": "2.7.12"
  }
 },
 "nbformat": 4,
 "nbformat_minor": 0
}
