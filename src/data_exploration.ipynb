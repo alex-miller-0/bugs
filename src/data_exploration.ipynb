{
 "cells": [
  {
   "cell_type": "code",
   "execution_count": 1,
   "metadata": {
    "collapsed": true
   },
   "outputs": [],
   "source": [
    "from __future__ import division\n",
    "import pymongo\n",
    "import json"
   ]
  },
  {
   "cell_type": "code",
   "execution_count": 2,
   "metadata": {
    "collapsed": true
   },
   "outputs": [],
   "source": [
    "data_files = ['assigned_to',\n",
    "              'bug_status',\n",
    "              'cc',\n",
    "              'component',\n",
    "              'op_sys',\n",
    "              'priority',\n",
    "              'product',\n",
    "              'reports',\n",
    "              'resolution',\n",
    "              'severity',\n",
    "              'short_desc',\n",
    "              'version']"
   ]
  },
  {
   "cell_type": "code",
   "execution_count": 3,
   "metadata": {
    "collapsed": false
   },
   "outputs": [],
   "source": [
    "mc = pymongo.MongoClient()\n",
    "db = mc['bugs']"
   ]
  },
  {
   "cell_type": "markdown",
   "metadata": {},
   "source": [
    "How many records (and unique bug ids) are in different tables"
   ]
  },
  {
   "cell_type": "code",
   "execution_count": 31,
   "metadata": {
    "collapsed": false
   },
   "outputs": [
    {
     "name": "stdout",
     "output_type": "stream",
     "text": [
      "assigned_to    582,668 (  394,878 unique ids)\n",
      "bug_status   1,026,480 (  394,878 unique ids)\n",
      "cc           1,648,136 (  394,878 unique ids)\n",
      "component      509,746 (  394,878 unique ids)\n",
      "op_sys         442,897 (  394,878 unique ids)\n",
      "priority       436,623 (  394,878 unique ids)\n",
      "product        435,628 (  394,878 unique ids)\n",
      "reports        394,878 (  394,878 unique ids)\n",
      "resolution     800,080 (  394,878 unique ids)\n",
      "severity       434,078 (  394,878 unique ids)\n",
      "short_desc     491,657 (  394,878 unique ids)\n",
      "version        469,073 (  394,878 unique ids)\n"
     ]
    }
   ],
   "source": [
    "for json_file in data_files:\n",
    "    coll = db[json_file]\n",
    "    print '{:12s} {:9,.0f} ({:9,.0f} unique ids)'.format(json_file, coll.count(), len(coll.distinct('id'))) "
   ]
  },
  {
   "cell_type": "markdown",
   "metadata": {},
   "source": [
    "What kind of information is stored in different tables"
   ]
  },
  {
   "cell_type": "code",
   "execution_count": 19,
   "metadata": {
    "collapsed": false
   },
   "outputs": [
    {
     "name": "stdout",
     "output_type": "stream",
     "text": [
      "assigned_to\n",
      "\twhat                <type 'NoneType'>  None        \n",
      "\twho                 <type 'int'>       111157      \n",
      "\twhen                <type 'int'>       1111425133  \n",
      "\tid                  <type 'unicode'>   287144      \n",
      "\n",
      "bug_status\n",
      "\twhat                <type 'unicode'>   UNCONFIRMED \n",
      "\twho                 <type 'int'>       111157      \n",
      "\twhen                <type 'int'>       1111425133  \n",
      "\tid                  <type 'unicode'>   287144      \n",
      "\n",
      "cc\n",
      "\twhat                <type 'unicode'>               \n",
      "\twho                 <type 'int'>       111157      \n",
      "\twhen                <type 'int'>       1111425133  \n",
      "\tid                  <type 'unicode'>   287144      \n",
      "\n",
      "component\n",
      "\twhat                <type 'unicode'>   General     \n",
      "\twho                 <type 'int'>       111157      \n",
      "\twhen                <type 'int'>       1111425133  \n",
      "\tid                  <type 'unicode'>   287144      \n",
      "\n",
      "op_sys\n",
      "\twhat                <type 'unicode'>   Linux       \n",
      "\twho                 <type 'int'>       111157      \n",
      "\twhen                <type 'int'>       1111425133  \n",
      "\tid                  <type 'unicode'>   287144      \n",
      "\n",
      "priority\n",
      "\twhat                <type 'NoneType'>  None        \n",
      "\twho                 <type 'int'>       111157      \n",
      "\twhen                <type 'int'>       1111425133  \n",
      "\tid                  <type 'unicode'>   287144      \n",
      "\n",
      "product\n",
      "\twhat                <type 'unicode'>   Firefox     \n",
      "\twho                 <type 'int'>       111157      \n",
      "\twhen                <type 'int'>       1111425133  \n",
      "\tid                  <type 'unicode'>   287144      \n",
      "\n",
      "reports\n",
      "\tcurrent_status      <type 'unicode'>   RESOLVED    \n",
      "\treporter            <type 'int'>       111157      \n",
      "\tid                  <type 'unicode'>   287144      \n",
      "\tcurrent_resolution  <type 'unicode'>   WORKSFORME  \n",
      "\topening             <type 'int'>       1111425133  \n",
      "\n",
      "resolution\n",
      "\twhat                <type 'unicode'>               \n",
      "\twho                 <type 'int'>       111157      \n",
      "\twhen                <type 'int'>       1111425133  \n",
      "\tid                  <type 'unicode'>   287144      \n",
      "\n",
      "severity\n",
      "\twhat                <type 'unicode'>   normal      \n",
      "\twho                 <type 'int'>       111157      \n",
      "\twhen                <type 'int'>       1111425133  \n",
      "\tid                  <type 'unicode'>   287144      \n",
      "\n",
      "short_desc\n",
      "\twhat                <type 'unicode'>   in some webs  this type of menu list doesn't work \n",
      "\twho                 <type 'int'>       111157      \n",
      "\twhen                <type 'int'>       1111425133  \n",
      "\tid                  <type 'unicode'>   287144      \n",
      "\n",
      "version\n",
      "\twhat                <type 'unicode'>   unspecified \n",
      "\twho                 <type 'int'>       111157      \n",
      "\twhen                <type 'int'>       1111425133  \n",
      "\tid                  <type 'unicode'>   287144      \n",
      "\n"
     ]
    }
   ],
   "source": [
    "for json_file in data_files:\n",
    "    coll = db[json_file]\n",
    "    first_line = eval(str(coll.find_one({}, {'_id': False}))) #filter out _id assigned by mongodb\n",
    "    print json_file\n",
    "    for key, val in first_line.iteritems():\n",
    "        print '\\t{:19s} {:18s} {:12s}'.format(key, type(val), str(val)) \n",
    "    print"
   ]
  },
  {
   "cell_type": "markdown",
   "metadata": {},
   "source": [
    "How many records are in each table for single bug"
   ]
  },
  {
   "cell_type": "code",
   "execution_count": 24,
   "metadata": {
    "collapsed": false
   },
   "outputs": [
    {
     "name": "stdout",
     "output_type": "stream",
     "text": [
      "\tassigned_to         1                 \n",
      "\tbug_status          4                 \n",
      "\tcc                  3                 \n",
      "\tcomponent           1                 \n",
      "\top_sys              1                 \n",
      "\tpriority            1                 \n",
      "\tproduct             1                 \n",
      "\treports             1                 \n",
      "\tresolution          4                 \n",
      "\tseverity            1                 \n",
      "\tshort_desc          2                 \n",
      "\tversion             1                 \n"
     ]
    }
   ],
   "source": [
    "sample_id = '287144'\n",
    "for json_file in data_files:\n",
    "    coll = db[json_file]\n",
    "    count = coll.find({'id': sample_id}, {'_id': False}).count()\n",
    "    print '{:19s} {:18s}'.format(json_file, str(count))"
   ]
  },
  {
   "cell_type": "code",
   "execution_count": 36,
   "metadata": {
    "collapsed": false
   },
   "outputs": [
    {
     "name": "stdout",
     "output_type": "stream",
     "text": [
      "assigned_to\n",
      "{u'what': None, u'who': 111157, u'when': 1111425133, u'id': u'287144'}\n",
      "\n",
      "bug_status\n",
      "{u'what': u'UNCONFIRMED', u'who': 111157, u'when': 1111425133, u'id': u'287144'}\n",
      "{u'what': u'RESOLVED', u'who': 111157, u'when': 1136823088, u'id': u'287144'}\n",
      "{u'what': u'UNCONFIRMED', u'who': 188489, u'when': 1136823115, u'id': u'287144'}\n",
      "{u'what': u'RESOLVED', u'who': 188489, u'when': 1136823131, u'id': u'287144'}\n",
      "\n",
      "cc\n",
      "{u'what': u'', u'who': 111157, u'when': 1111425133, u'id': u'287144'}\n",
      "{u'what': u'bugzilla@spray.se', u'who': 25585, u'when': 1111446775, u'id': u'287144'}\n",
      "{u'what': u'rflint@dslr.net', u'who': 188489, u'when': 1136823131, u'id': u'287144'}\n",
      "\n",
      "component\n",
      "{u'what': u'General', u'who': 111157, u'when': 1111425133, u'id': u'287144'}\n",
      "\n",
      "op_sys\n",
      "{u'what': u'Linux', u'who': 111157, u'when': 1111425133, u'id': u'287144'}\n",
      "\n",
      "priority\n",
      "{u'what': None, u'who': 111157, u'when': 1111425133, u'id': u'287144'}\n",
      "\n",
      "product\n",
      "{u'what': u'Firefox', u'who': 111157, u'when': 1111425133, u'id': u'287144'}\n",
      "\n",
      "reports\n",
      "{u'id': u'287144', u'opening': 1111425133, u'current_resolution': u'WORKSFORME', u'current_status': u'RESOLVED', u'reporter': 111157}\n",
      "\n",
      "resolution\n",
      "{u'what': u'', u'who': 111157, u'when': 1111425133, u'id': u'287144'}\n",
      "{u'what': u'FIXED', u'who': 111157, u'when': 1136823088, u'id': u'287144'}\n",
      "{u'what': u'', u'who': 188489, u'when': 1136823115, u'id': u'287144'}\n",
      "{u'what': u'WORKSFORME', u'who': 188489, u'when': 1136823131, u'id': u'287144'}\n",
      "\n",
      "severity\n",
      "{u'what': u'normal', u'who': 111157, u'when': 1111425133, u'id': u'287144'}\n",
      "\n",
      "short_desc\n",
      "{u'what': u\"in some webs  this type of menu list doesn't work \", u'who': 111157, u'when': 1111425133, u'id': u'287144'}\n",
      "{u'what': u\"in some webs  this type of menu list doesn't work\", u'who': 111157, u'when': 1111431171, u'id': u'287144'}\n",
      "\n",
      "version\n",
      "{u'what': u'unspecified', u'who': 111157, u'when': 1111425133, u'id': u'287144'}\n",
      "\n"
     ]
    }
   ],
   "source": [
    "sample_id = '287144'\n",
    "#sample_when = 1111425133\n",
    "for json_file in data_files:\n",
    "    coll = db[json_file]\n",
    "    lines = coll.find({'id': sample_id}, {'_id': False})\n",
    "    print json_file\n",
    "    for line in lines:\n",
    "        print line\n",
    "    #for key, val in first_line.iteritems():\n",
    "    #    print '\\t{:19s} {:18s} {:12s}'.format(key, type(val), str(val)) \n",
    "    print"
   ]
  },
  {
   "cell_type": "markdown",
   "metadata": {},
   "source": [
    "'what' key in different tables is the important thing:\n",
    "- **assigned_to** - mostly (always?) None\n",
    "- **bug_status** - mostly (always?) 'UNCONFIRMED'\n",
    "- **cc** - mostly (always?) reporter\n",
    "- **component** - 'General' ...\n",
    "- **op_sys** - 'Linux' ...\n",
    "- **priority** - None ...\n",
    "- **product** - 'Firefox' ...\n",
    "- <strike>reports - what is not a valid key in this file</strike>\n",
    "- **resolution** - mostly (always?) '' (empty)\n",
    "- **severity** - 'normal' ...\n",
    "- **short_desc** - text\n",
    "- **version** - 'unspecified' ..."
   ]
  },
  {
   "cell_type": "code",
   "execution_count": 4,
   "metadata": {
    "collapsed": false
   },
   "outputs": [
    {
     "name": "stdout",
     "output_type": "stream",
     "text": [
      "287144 1111425133 111157\n"
     ]
    }
   ],
   "source": [
    "coll_reports = db['reports']\n",
    "for report in coll_reports.find():\n",
    "    print report['id'], report['opening'], report['reporter']\n",
    "    break"
   ]
  },
  {
   "cell_type": "code",
   "execution_count": 18,
   "metadata": {
    "collapsed": false
   },
   "outputs": [
    {
     "ename": "KeyboardInterrupt",
     "evalue": "",
     "output_type": "error",
     "traceback": [
      "\u001b[0;31m---------------------------------------------------------------------------\u001b[0m",
      "\u001b[0;31mKeyboardInterrupt\u001b[0m                         Traceback (most recent call last)",
      "\u001b[0;32m<ipython-input-18-a96d05cccfce>\u001b[0m in \u001b[0;36m<module>\u001b[0;34m()\u001b[0m\n\u001b[1;32m      5\u001b[0m \u001b[0;34m\u001b[0m\u001b[0m\n\u001b[1;32m      6\u001b[0m \u001b[0;32mfor\u001b[0m \u001b[0mreport\u001b[0m \u001b[0;32min\u001b[0m \u001b[0mcursor\u001b[0m\u001b[0;34m:\u001b[0m\u001b[0;34m\u001b[0m\u001b[0m\n\u001b[0;32m----> 7\u001b[0;31m     \u001b[0massigned\u001b[0m \u001b[0;34m=\u001b[0m \u001b[0mcoll_assigned\u001b[0m\u001b[0;34m.\u001b[0m\u001b[0mfind_one\u001b[0m\u001b[0;34m(\u001b[0m\u001b[0;34m{\u001b[0m\u001b[0;34m'id'\u001b[0m\u001b[0;34m:\u001b[0m \u001b[0mreport\u001b[0m\u001b[0;34m[\u001b[0m\u001b[0;34m'id'\u001b[0m\u001b[0;34m]\u001b[0m\u001b[0;34m,\u001b[0m \u001b[0;34m'when'\u001b[0m\u001b[0;34m:\u001b[0m \u001b[0mreport\u001b[0m\u001b[0;34m[\u001b[0m\u001b[0;34m'opening'\u001b[0m\u001b[0;34m]\u001b[0m\u001b[0;34m}\u001b[0m\u001b[0;34m,\u001b[0m \u001b[0;34m{\u001b[0m\u001b[0;34m'_id'\u001b[0m\u001b[0;34m:\u001b[0m \u001b[0mFalse\u001b[0m\u001b[0;34m}\u001b[0m\u001b[0;34m)\u001b[0m\u001b[0;34m\u001b[0m\u001b[0m\n\u001b[0m\u001b[1;32m      8\u001b[0m     \u001b[0mall_assigned\u001b[0m\u001b[0;34m.\u001b[0m\u001b[0madd\u001b[0m\u001b[0;34m(\u001b[0m\u001b[0massigned\u001b[0m\u001b[0;34m[\u001b[0m\u001b[0;34m'what'\u001b[0m\u001b[0;34m]\u001b[0m\u001b[0;34m)\u001b[0m\u001b[0;34m\u001b[0m\u001b[0m\n\u001b[1;32m      9\u001b[0m     \u001b[0;32mif\u001b[0m \u001b[0massigned\u001b[0m\u001b[0;34m[\u001b[0m\u001b[0;34m'what'\u001b[0m\u001b[0;34m]\u001b[0m \u001b[0;34m==\u001b[0m \u001b[0mNone\u001b[0m\u001b[0;34m:\u001b[0m\u001b[0;34m\u001b[0m\u001b[0m\n",
      "\u001b[0;32m/Users/lucka/anaconda/lib/python2.7/site-packages/pymongo/collection.pyc\u001b[0m in \u001b[0;36mfind_one\u001b[0;34m(self, filter, *args, **kwargs)\u001b[0m\n\u001b[1;32m   1004\u001b[0m                            *args, **kwargs).max_time_ms(max_time_ms)\n\u001b[1;32m   1005\u001b[0m \u001b[0;34m\u001b[0m\u001b[0m\n\u001b[0;32m-> 1006\u001b[0;31m         \u001b[0;32mfor\u001b[0m \u001b[0mresult\u001b[0m \u001b[0;32min\u001b[0m \u001b[0mcursor\u001b[0m\u001b[0;34m.\u001b[0m\u001b[0mlimit\u001b[0m\u001b[0;34m(\u001b[0m\u001b[0;34m-\u001b[0m\u001b[0;36m1\u001b[0m\u001b[0;34m)\u001b[0m\u001b[0;34m:\u001b[0m\u001b[0;34m\u001b[0m\u001b[0m\n\u001b[0m\u001b[1;32m   1007\u001b[0m             \u001b[0;32mreturn\u001b[0m \u001b[0mresult\u001b[0m\u001b[0;34m\u001b[0m\u001b[0m\n\u001b[1;32m   1008\u001b[0m         \u001b[0;32mreturn\u001b[0m \u001b[0mNone\u001b[0m\u001b[0;34m\u001b[0m\u001b[0m\n",
      "\u001b[0;32m/Users/lucka/anaconda/lib/python2.7/site-packages/pymongo/cursor.pyc\u001b[0m in \u001b[0;36mnext\u001b[0;34m(self)\u001b[0m\n\u001b[1;32m   1088\u001b[0m             \u001b[0;32mraise\u001b[0m \u001b[0mStopIteration\u001b[0m\u001b[0;34m\u001b[0m\u001b[0m\n\u001b[1;32m   1089\u001b[0m         \u001b[0m_db\u001b[0m \u001b[0;34m=\u001b[0m \u001b[0mself\u001b[0m\u001b[0;34m.\u001b[0m\u001b[0m__collection\u001b[0m\u001b[0;34m.\u001b[0m\u001b[0mdatabase\u001b[0m\u001b[0;34m\u001b[0m\u001b[0m\n\u001b[0;32m-> 1090\u001b[0;31m         \u001b[0;32mif\u001b[0m \u001b[0mlen\u001b[0m\u001b[0;34m(\u001b[0m\u001b[0mself\u001b[0m\u001b[0;34m.\u001b[0m\u001b[0m__data\u001b[0m\u001b[0;34m)\u001b[0m \u001b[0;32mor\u001b[0m \u001b[0mself\u001b[0m\u001b[0;34m.\u001b[0m\u001b[0m_refresh\u001b[0m\u001b[0;34m(\u001b[0m\u001b[0;34m)\u001b[0m\u001b[0;34m:\u001b[0m\u001b[0;34m\u001b[0m\u001b[0m\n\u001b[0m\u001b[1;32m   1091\u001b[0m             \u001b[0;32mif\u001b[0m \u001b[0mself\u001b[0m\u001b[0;34m.\u001b[0m\u001b[0m__manipulate\u001b[0m\u001b[0;34m:\u001b[0m\u001b[0;34m\u001b[0m\u001b[0m\n\u001b[1;32m   1092\u001b[0m                 return _db._fix_outgoing(self.__data.popleft(),\n",
      "\u001b[0;32m/Users/lucka/anaconda/lib/python2.7/site-packages/pymongo/cursor.pyc\u001b[0m in \u001b[0;36m_refresh\u001b[0;34m(self)\u001b[0m\n\u001b[1;32m   1010\u001b[0m                                        \u001b[0mself\u001b[0m\u001b[0;34m.\u001b[0m\u001b[0m__limit\u001b[0m\u001b[0;34m,\u001b[0m\u001b[0;34m\u001b[0m\u001b[0m\n\u001b[1;32m   1011\u001b[0m                                        \u001b[0mself\u001b[0m\u001b[0;34m.\u001b[0m\u001b[0m__batch_size\u001b[0m\u001b[0;34m,\u001b[0m\u001b[0;34m\u001b[0m\u001b[0m\n\u001b[0;32m-> 1012\u001b[0;31m                                        self.__read_concern))\n\u001b[0m\u001b[1;32m   1013\u001b[0m             \u001b[0;32mif\u001b[0m \u001b[0;32mnot\u001b[0m \u001b[0mself\u001b[0m\u001b[0;34m.\u001b[0m\u001b[0m__id\u001b[0m\u001b[0;34m:\u001b[0m\u001b[0;34m\u001b[0m\u001b[0m\n\u001b[1;32m   1014\u001b[0m                 \u001b[0mself\u001b[0m\u001b[0;34m.\u001b[0m\u001b[0m__killed\u001b[0m \u001b[0;34m=\u001b[0m \u001b[0mTrue\u001b[0m\u001b[0;34m\u001b[0m\u001b[0m\n",
      "\u001b[0;32m/Users/lucka/anaconda/lib/python2.7/site-packages/pymongo/cursor.pyc\u001b[0m in \u001b[0;36m__send_message\u001b[0;34m(self, operation)\u001b[0m\n\u001b[1;32m    848\u001b[0m             \u001b[0;32mtry\u001b[0m\u001b[0;34m:\u001b[0m\u001b[0;34m\u001b[0m\u001b[0m\n\u001b[1;32m    849\u001b[0m                 response = client._send_message_with_response(operation,\n\u001b[0;32m--> 850\u001b[0;31m                                                               **kwargs)\n\u001b[0m\u001b[1;32m    851\u001b[0m                 \u001b[0mself\u001b[0m\u001b[0;34m.\u001b[0m\u001b[0m__address\u001b[0m \u001b[0;34m=\u001b[0m \u001b[0mresponse\u001b[0m\u001b[0;34m.\u001b[0m\u001b[0maddress\u001b[0m\u001b[0;34m\u001b[0m\u001b[0m\n\u001b[1;32m    852\u001b[0m                 \u001b[0;32mif\u001b[0m \u001b[0mself\u001b[0m\u001b[0;34m.\u001b[0m\u001b[0m__exhaust\u001b[0m\u001b[0;34m:\u001b[0m\u001b[0;34m\u001b[0m\u001b[0m\n",
      "\u001b[0;32m/Users/lucka/anaconda/lib/python2.7/site-packages/pymongo/mongo_client.pyc\u001b[0m in \u001b[0;36m_send_message_with_response\u001b[0;34m(self, operation, read_preference, exhaust, address)\u001b[0m\n\u001b[1;32m    796\u001b[0m             \u001b[0mself\u001b[0m\u001b[0;34m.\u001b[0m\u001b[0m__all_credentials\u001b[0m\u001b[0;34m,\u001b[0m\u001b[0;34m\u001b[0m\u001b[0m\n\u001b[1;32m    797\u001b[0m             \u001b[0mself\u001b[0m\u001b[0;34m.\u001b[0m\u001b[0m_event_listeners\u001b[0m\u001b[0;34m,\u001b[0m\u001b[0;34m\u001b[0m\u001b[0m\n\u001b[0;32m--> 798\u001b[0;31m             exhaust)\n\u001b[0m\u001b[1;32m    799\u001b[0m \u001b[0;34m\u001b[0m\u001b[0m\n\u001b[1;32m    800\u001b[0m     \u001b[0;32mdef\u001b[0m \u001b[0m_reset_on_error\u001b[0m\u001b[0;34m(\u001b[0m\u001b[0mself\u001b[0m\u001b[0;34m,\u001b[0m \u001b[0mserver\u001b[0m\u001b[0;34m,\u001b[0m \u001b[0mfunc\u001b[0m\u001b[0;34m,\u001b[0m \u001b[0;34m*\u001b[0m\u001b[0margs\u001b[0m\u001b[0;34m,\u001b[0m \u001b[0;34m**\u001b[0m\u001b[0mkwargs\u001b[0m\u001b[0;34m)\u001b[0m\u001b[0;34m:\u001b[0m\u001b[0;34m\u001b[0m\u001b[0m\n",
      "\u001b[0;32m/Users/lucka/anaconda/lib/python2.7/site-packages/pymongo/mongo_client.pyc\u001b[0m in \u001b[0;36m_reset_on_error\u001b[0;34m(self, server, func, *args, **kwargs)\u001b[0m\n\u001b[1;32m    807\u001b[0m         \"\"\"\n\u001b[1;32m    808\u001b[0m         \u001b[0;32mtry\u001b[0m\u001b[0;34m:\u001b[0m\u001b[0;34m\u001b[0m\u001b[0m\n\u001b[0;32m--> 809\u001b[0;31m             \u001b[0;32mreturn\u001b[0m \u001b[0mfunc\u001b[0m\u001b[0;34m(\u001b[0m\u001b[0;34m*\u001b[0m\u001b[0margs\u001b[0m\u001b[0;34m,\u001b[0m \u001b[0;34m**\u001b[0m\u001b[0mkwargs\u001b[0m\u001b[0;34m)\u001b[0m\u001b[0;34m\u001b[0m\u001b[0m\n\u001b[0m\u001b[1;32m    810\u001b[0m         \u001b[0;32mexcept\u001b[0m \u001b[0mNetworkTimeout\u001b[0m\u001b[0;34m:\u001b[0m\u001b[0;34m\u001b[0m\u001b[0m\n\u001b[1;32m    811\u001b[0m             \u001b[0;31m# The socket has been closed. Don't reset the server.\u001b[0m\u001b[0;34m\u001b[0m\u001b[0;34m\u001b[0m\u001b[0m\n",
      "\u001b[0;32m/Users/lucka/anaconda/lib/python2.7/site-packages/pymongo/server.pyc\u001b[0m in \u001b[0;36msend_message_with_response\u001b[0;34m(self, operation, set_slave_okay, all_credentials, listeners, exhaust)\u001b[0m\n\u001b[1;32m    118\u001b[0m             \u001b[0;32mtry\u001b[0m\u001b[0;34m:\u001b[0m\u001b[0;34m\u001b[0m\u001b[0m\n\u001b[1;32m    119\u001b[0m                 \u001b[0msock_info\u001b[0m\u001b[0;34m.\u001b[0m\u001b[0msend_message\u001b[0m\u001b[0;34m(\u001b[0m\u001b[0mdata\u001b[0m\u001b[0;34m,\u001b[0m \u001b[0mmax_doc_size\u001b[0m\u001b[0;34m)\u001b[0m\u001b[0;34m\u001b[0m\u001b[0m\n\u001b[0;32m--> 120\u001b[0;31m                 \u001b[0mresponse_data\u001b[0m \u001b[0;34m=\u001b[0m \u001b[0msock_info\u001b[0m\u001b[0;34m.\u001b[0m\u001b[0mreceive_message\u001b[0m\u001b[0;34m(\u001b[0m\u001b[0;36m1\u001b[0m\u001b[0;34m,\u001b[0m \u001b[0mrequest_id\u001b[0m\u001b[0;34m)\u001b[0m\u001b[0;34m\u001b[0m\u001b[0m\n\u001b[0m\u001b[1;32m    121\u001b[0m             \u001b[0;32mexcept\u001b[0m \u001b[0mException\u001b[0m \u001b[0;32mas\u001b[0m \u001b[0mexc\u001b[0m\u001b[0;34m:\u001b[0m\u001b[0;34m\u001b[0m\u001b[0m\n\u001b[1;32m    122\u001b[0m                 \u001b[0;32mif\u001b[0m \u001b[0mpublish\u001b[0m\u001b[0;34m:\u001b[0m\u001b[0;34m\u001b[0m\u001b[0m\n",
      "\u001b[0;32m/Users/lucka/anaconda/lib/python2.7/site-packages/pymongo/pool.pyc\u001b[0m in \u001b[0;36mreceive_message\u001b[0;34m(self, operation, request_id)\u001b[0m\n\u001b[1;32m    244\u001b[0m                 self.sock, operation, request_id, self.max_message_size)\n\u001b[1;32m    245\u001b[0m         \u001b[0;32mexcept\u001b[0m \u001b[0mBaseException\u001b[0m \u001b[0;32mas\u001b[0m \u001b[0merror\u001b[0m\u001b[0;34m:\u001b[0m\u001b[0;34m\u001b[0m\u001b[0m\n\u001b[0;32m--> 246\u001b[0;31m             \u001b[0mself\u001b[0m\u001b[0;34m.\u001b[0m\u001b[0m_raise_connection_failure\u001b[0m\u001b[0;34m(\u001b[0m\u001b[0merror\u001b[0m\u001b[0;34m)\u001b[0m\u001b[0;34m\u001b[0m\u001b[0m\n\u001b[0m\u001b[1;32m    247\u001b[0m \u001b[0;34m\u001b[0m\u001b[0m\n\u001b[1;32m    248\u001b[0m     \u001b[0;32mdef\u001b[0m \u001b[0mlegacy_write\u001b[0m\u001b[0;34m(\u001b[0m\u001b[0mself\u001b[0m\u001b[0;34m,\u001b[0m \u001b[0mrequest_id\u001b[0m\u001b[0;34m,\u001b[0m \u001b[0mmsg\u001b[0m\u001b[0;34m,\u001b[0m \u001b[0mmax_doc_size\u001b[0m\u001b[0;34m,\u001b[0m \u001b[0mwith_last_error\u001b[0m\u001b[0;34m)\u001b[0m\u001b[0;34m:\u001b[0m\u001b[0;34m\u001b[0m\u001b[0m\n",
      "\u001b[0;32m/Users/lucka/anaconda/lib/python2.7/site-packages/pymongo/pool.pyc\u001b[0m in \u001b[0;36m_raise_connection_failure\u001b[0;34m(self, error)\u001b[0m\n\u001b[1;32m    344\u001b[0m             \u001b[0m_raise_connection_failure\u001b[0m\u001b[0;34m(\u001b[0m\u001b[0mself\u001b[0m\u001b[0;34m.\u001b[0m\u001b[0maddress\u001b[0m\u001b[0;34m,\u001b[0m \u001b[0merror\u001b[0m\u001b[0;34m)\u001b[0m\u001b[0;34m\u001b[0m\u001b[0m\n\u001b[1;32m    345\u001b[0m         \u001b[0;32melse\u001b[0m\u001b[0;34m:\u001b[0m\u001b[0;34m\u001b[0m\u001b[0m\n\u001b[0;32m--> 346\u001b[0;31m             \u001b[0;32mraise\u001b[0m \u001b[0merror\u001b[0m\u001b[0;34m\u001b[0m\u001b[0m\n\u001b[0m\u001b[1;32m    347\u001b[0m \u001b[0;34m\u001b[0m\u001b[0m\n\u001b[1;32m    348\u001b[0m     \u001b[0;32mdef\u001b[0m \u001b[0m__eq__\u001b[0m\u001b[0;34m(\u001b[0m\u001b[0mself\u001b[0m\u001b[0;34m,\u001b[0m \u001b[0mother\u001b[0m\u001b[0;34m)\u001b[0m\u001b[0;34m:\u001b[0m\u001b[0;34m\u001b[0m\u001b[0m\n",
      "\u001b[0;31mKeyboardInterrupt\u001b[0m: "
     ]
    }
   ],
   "source": [
    "coll_assigned = db['assigned_to']\n",
    "cursor = coll_reports.find(no_cursor_timeout=True) #need to manually close!\n",
    "all_assigned = set()\n",
    "not_asigned = 0\n",
    "\n",
    "for report in cursor:\n",
    "    assigned = coll_assigned.find_one({'id': report['id'], 'when': report['opening']}, {'_id': False})\n",
    "    all_assigned.add(assigned['what'])\n",
    "    if assigned['what'] == None:\n",
    "        not_asigned += 1\n",
    "\n",
    "cursor.close()"
   ]
  },
  {
   "cell_type": "code",
   "execution_count": null,
   "metadata": {
    "collapsed": true
   },
   "outputs": [],
   "source": []
  }
 ],
 "metadata": {
  "kernelspec": {
   "display_name": "Python 2",
   "language": "python",
   "name": "python2"
  },
  "language_info": {
   "codemirror_mode": {
    "name": "ipython",
    "version": 2
   },
   "file_extension": ".py",
   "mimetype": "text/x-python",
   "name": "python",
   "nbconvert_exporter": "python",
   "pygments_lexer": "ipython2",
   "version": "2.7.12"
  }
 },
 "nbformat": 4,
 "nbformat_minor": 0
}
