{
 "cells": [
  {
   "cell_type": "code",
   "execution_count": 4,
   "metadata": {
    "collapsed": true
   },
   "outputs": [],
   "source": [
    "from __future__ import division\n",
    "import pymongo\n",
    "import json"
   ]
  },
  {
   "cell_type": "code",
   "execution_count": 5,
   "metadata": {
    "collapsed": true
   },
   "outputs": [],
   "source": [
    "data_files = ['assigned_to',\n",
    "              'bug_status',\n",
    "              'cc',\n",
    "              'component',\n",
    "              'op_sys',\n",
    "              'priority',\n",
    "              'product',\n",
    "              'reports',\n",
    "              'resolution',\n",
    "              'severity',\n",
    "              'short_desc',\n",
    "              'version']"
   ]
  },
  {
   "cell_type": "code",
   "execution_count": 6,
   "metadata": {
    "collapsed": false
   },
   "outputs": [],
   "source": [
    "mc = pymongo.MongoClient()\n",
    "db = mc['bugs']"
   ]
  },
  {
   "cell_type": "markdown",
   "metadata": {},
   "source": [
    "How many records (and unique bug ids) are in different tables"
   ]
  },
  {
   "cell_type": "code",
   "execution_count": 31,
   "metadata": {
    "collapsed": false
   },
   "outputs": [
    {
     "name": "stdout",
     "output_type": "stream",
     "text": [
      "assigned_to    582,668 (  394,878 unique ids)\n",
      "bug_status   1,026,480 (  394,878 unique ids)\n",
      "cc           1,648,136 (  394,878 unique ids)\n",
      "component      509,746 (  394,878 unique ids)\n",
      "op_sys         442,897 (  394,878 unique ids)\n",
      "priority       436,623 (  394,878 unique ids)\n",
      "product        435,628 (  394,878 unique ids)\n",
      "reports        394,878 (  394,878 unique ids)\n",
      "resolution     800,080 (  394,878 unique ids)\n",
      "severity       434,078 (  394,878 unique ids)\n",
      "short_desc     491,657 (  394,878 unique ids)\n",
      "version        469,073 (  394,878 unique ids)\n"
     ]
    }
   ],
   "source": [
    "for json_file in data_files:\n",
    "    coll = db[json_file]\n",
    "    print '{:12s} {:9,.0f} ({:9,.0f} unique ids)'.format(json_file, coll.count(), len(coll.distinct('id'))) "
   ]
  },
  {
   "cell_type": "markdown",
   "metadata": {},
   "source": [
    "What kind of information is stored in different tables"
   ]
  },
  {
   "cell_type": "code",
   "execution_count": 19,
   "metadata": {
    "collapsed": false
   },
   "outputs": [
    {
     "name": "stdout",
     "output_type": "stream",
     "text": [
      "assigned_to\n",
      "\twhat                <type 'NoneType'>  None        \n",
      "\twho                 <type 'int'>       111157      \n",
      "\twhen                <type 'int'>       1111425133  \n",
      "\tid                  <type 'unicode'>   287144      \n",
      "\n",
      "bug_status\n",
      "\twhat                <type 'unicode'>   UNCONFIRMED \n",
      "\twho                 <type 'int'>       111157      \n",
      "\twhen                <type 'int'>       1111425133  \n",
      "\tid                  <type 'unicode'>   287144      \n",
      "\n",
      "cc\n",
      "\twhat                <type 'unicode'>               \n",
      "\twho                 <type 'int'>       111157      \n",
      "\twhen                <type 'int'>       1111425133  \n",
      "\tid                  <type 'unicode'>   287144      \n",
      "\n",
      "component\n",
      "\twhat                <type 'unicode'>   General     \n",
      "\twho                 <type 'int'>       111157      \n",
      "\twhen                <type 'int'>       1111425133  \n",
      "\tid                  <type 'unicode'>   287144      \n",
      "\n",
      "op_sys\n",
      "\twhat                <type 'unicode'>   Linux       \n",
      "\twho                 <type 'int'>       111157      \n",
      "\twhen                <type 'int'>       1111425133  \n",
      "\tid                  <type 'unicode'>   287144      \n",
      "\n",
      "priority\n",
      "\twhat                <type 'NoneType'>  None        \n",
      "\twho                 <type 'int'>       111157      \n",
      "\twhen                <type 'int'>       1111425133  \n",
      "\tid                  <type 'unicode'>   287144      \n",
      "\n",
      "product\n",
      "\twhat                <type 'unicode'>   Firefox     \n",
      "\twho                 <type 'int'>       111157      \n",
      "\twhen                <type 'int'>       1111425133  \n",
      "\tid                  <type 'unicode'>   287144      \n",
      "\n",
      "reports\n",
      "\tcurrent_status      <type 'unicode'>   RESOLVED    \n",
      "\treporter            <type 'int'>       111157      \n",
      "\tid                  <type 'unicode'>   287144      \n",
      "\tcurrent_resolution  <type 'unicode'>   WORKSFORME  \n",
      "\topening             <type 'int'>       1111425133  \n",
      "\n",
      "resolution\n",
      "\twhat                <type 'unicode'>               \n",
      "\twho                 <type 'int'>       111157      \n",
      "\twhen                <type 'int'>       1111425133  \n",
      "\tid                  <type 'unicode'>   287144      \n",
      "\n",
      "severity\n",
      "\twhat                <type 'unicode'>   normal      \n",
      "\twho                 <type 'int'>       111157      \n",
      "\twhen                <type 'int'>       1111425133  \n",
      "\tid                  <type 'unicode'>   287144      \n",
      "\n",
      "short_desc\n",
      "\twhat                <type 'unicode'>   in some webs  this type of menu list doesn't work \n",
      "\twho                 <type 'int'>       111157      \n",
      "\twhen                <type 'int'>       1111425133  \n",
      "\tid                  <type 'unicode'>   287144      \n",
      "\n",
      "version\n",
      "\twhat                <type 'unicode'>   unspecified \n",
      "\twho                 <type 'int'>       111157      \n",
      "\twhen                <type 'int'>       1111425133  \n",
      "\tid                  <type 'unicode'>   287144      \n",
      "\n"
     ]
    }
   ],
   "source": [
    "for json_file in data_files:\n",
    "    coll = db[json_file]\n",
    "    first_line = eval(str(coll.find_one({}, {'_id': False}))) #filter out _id assigned by mongodb\n",
    "    print json_file\n",
    "    for key, val in first_line.iteritems():\n",
    "        print '\\t{:19s} {:18s} {:12s}'.format(key, type(val), str(val)) \n",
    "    print"
   ]
  },
  {
   "cell_type": "markdown",
   "metadata": {},
   "source": [
    "How many records are in each table for single bug"
   ]
  },
  {
   "cell_type": "code",
   "execution_count": 24,
   "metadata": {
    "collapsed": false
   },
   "outputs": [
    {
     "name": "stdout",
     "output_type": "stream",
     "text": [
      "\tassigned_to         1                 \n",
      "\tbug_status          4                 \n",
      "\tcc                  3                 \n",
      "\tcomponent           1                 \n",
      "\top_sys              1                 \n",
      "\tpriority            1                 \n",
      "\tproduct             1                 \n",
      "\treports             1                 \n",
      "\tresolution          4                 \n",
      "\tseverity            1                 \n",
      "\tshort_desc          2                 \n",
      "\tversion             1                 \n"
     ]
    }
   ],
   "source": [
    "sample_id = '287144'\n",
    "for json_file in data_files:\n",
    "    coll = db[json_file]\n",
    "    count = coll.find({'id': sample_id}, {'_id': False}).count()\n",
    "    print '{:19s} {:18s}'.format(json_file, str(count))"
   ]
  },
  {
   "cell_type": "code",
   "execution_count": 36,
   "metadata": {
    "collapsed": false
   },
   "outputs": [
    {
     "name": "stdout",
     "output_type": "stream",
     "text": [
      "assigned_to\n",
      "{u'what': None, u'who': 111157, u'when': 1111425133, u'id': u'287144'}\n",
      "\n",
      "bug_status\n",
      "{u'what': u'UNCONFIRMED', u'who': 111157, u'when': 1111425133, u'id': u'287144'}\n",
      "{u'what': u'RESOLVED', u'who': 111157, u'when': 1136823088, u'id': u'287144'}\n",
      "{u'what': u'UNCONFIRMED', u'who': 188489, u'when': 1136823115, u'id': u'287144'}\n",
      "{u'what': u'RESOLVED', u'who': 188489, u'when': 1136823131, u'id': u'287144'}\n",
      "\n",
      "cc\n",
      "{u'what': u'', u'who': 111157, u'when': 1111425133, u'id': u'287144'}\n",
      "{u'what': u'bugzilla@spray.se', u'who': 25585, u'when': 1111446775, u'id': u'287144'}\n",
      "{u'what': u'rflint@dslr.net', u'who': 188489, u'when': 1136823131, u'id': u'287144'}\n",
      "\n",
      "component\n",
      "{u'what': u'General', u'who': 111157, u'when': 1111425133, u'id': u'287144'}\n",
      "\n",
      "op_sys\n",
      "{u'what': u'Linux', u'who': 111157, u'when': 1111425133, u'id': u'287144'}\n",
      "\n",
      "priority\n",
      "{u'what': None, u'who': 111157, u'when': 1111425133, u'id': u'287144'}\n",
      "\n",
      "product\n",
      "{u'what': u'Firefox', u'who': 111157, u'when': 1111425133, u'id': u'287144'}\n",
      "\n",
      "reports\n",
      "{u'id': u'287144', u'opening': 1111425133, u'current_resolution': u'WORKSFORME', u'current_status': u'RESOLVED', u'reporter': 111157}\n",
      "\n",
      "resolution\n",
      "{u'what': u'', u'who': 111157, u'when': 1111425133, u'id': u'287144'}\n",
      "{u'what': u'FIXED', u'who': 111157, u'when': 1136823088, u'id': u'287144'}\n",
      "{u'what': u'', u'who': 188489, u'when': 1136823115, u'id': u'287144'}\n",
      "{u'what': u'WORKSFORME', u'who': 188489, u'when': 1136823131, u'id': u'287144'}\n",
      "\n",
      "severity\n",
      "{u'what': u'normal', u'who': 111157, u'when': 1111425133, u'id': u'287144'}\n",
      "\n",
      "short_desc\n",
      "{u'what': u\"in some webs  this type of menu list doesn't work \", u'who': 111157, u'when': 1111425133, u'id': u'287144'}\n",
      "{u'what': u\"in some webs  this type of menu list doesn't work\", u'who': 111157, u'when': 1111431171, u'id': u'287144'}\n",
      "\n",
      "version\n",
      "{u'what': u'unspecified', u'who': 111157, u'when': 1111425133, u'id': u'287144'}\n",
      "\n"
     ]
    }
   ],
   "source": [
    "sample_id = '287144'\n",
    "#sample_when = 1111425133\n",
    "for json_file in data_files:\n",
    "    coll = db[json_file]\n",
    "    lines = coll.find({'id': sample_id}, {'_id': False})\n",
    "    print json_file\n",
    "    for line in lines:\n",
    "        print line\n",
    "    #for key, val in first_line.iteritems():\n",
    "    #    print '\\t{:19s} {:18s} {:12s}'.format(key, type(val), str(val)) \n",
    "    print"
   ]
  },
  {
   "cell_type": "markdown",
   "metadata": {},
   "source": [
    "'what' key in different tables is the important thing:\n",
    "- **assigned_to** - mostly (always?) None\n",
    "- **bug_status** - mostly (always?) 'UNCONFIRMED'\n",
    "- **cc** - mostly (always?) reporter\n",
    "- **component** - 'General' ...\n",
    "- **op_sys** - 'Linux' ...\n",
    "- **priority** - None ...\n",
    "- **product** - 'Firefox' ...\n",
    "- <strike>reports - what is not a valid key in this file</strike>\n",
    "- **resolution** - mostly (always?) '' (empty)\n",
    "- **severity** - 'normal' ...\n",
    "- **short_desc** - text\n",
    "- **version** - 'unspecified' ..."
   ]
  },
  {
   "cell_type": "code",
   "execution_count": 57,
   "metadata": {
    "collapsed": false
   },
   "outputs": [
    {
     "name": "stdout",
     "output_type": "stream",
     "text": [
      "287144 1111425133 111157\n"
     ]
    }
   ],
   "source": [
    "coll_reports = db['reports']\n",
    "for report in coll_reports.find():\n",
    "    print report['id'], report['opening'], report['reporter']\n",
    "    break"
   ]
  },
  {
   "cell_type": "code",
   "execution_count": 62,
   "metadata": {
    "collapsed": false
   },
   "outputs": [],
   "source": [
    "coll_assigned = db['assigned_to']\n",
    "all_assigned = set()\n",
    "for report in coll_reports.find():\n",
    "    assigned = coll_assigned.find_one({'id': report['id'], 'when': report['opening']}, {'_id': False})\n",
    "    all_assigned.add(assigned['what'])"
   ]
  },
  {
   "cell_type": "code",
   "execution_count": null,
   "metadata": {
    "collapsed": true
   },
   "outputs": [],
   "source": []
  }
 ],
 "metadata": {
  "kernelspec": {
   "display_name": "Python 2",
   "language": "python",
   "name": "python2"
  },
  "language_info": {
   "codemirror_mode": {
    "name": "ipython",
    "version": 2
   },
   "file_extension": ".py",
   "mimetype": "text/x-python",
   "name": "python",
   "nbconvert_exporter": "python",
   "pygments_lexer": "ipython2",
   "version": "2.7.12"
  }
 },
 "nbformat": 4,
 "nbformat_minor": 0
}
