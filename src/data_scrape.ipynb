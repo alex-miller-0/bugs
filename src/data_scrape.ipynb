{
 "cells": [
  {
   "cell_type": "code",
   "execution_count": 1,
   "metadata": {
    "collapsed": true
   },
   "outputs": [],
   "source": [
    "from __future__ import division\n",
    "import requests\n",
    "import pymongo\n",
    "import bson.json_util"
   ]
  },
  {
   "cell_type": "code",
   "execution_count": 7,
   "metadata": {
    "collapsed": true
   },
   "outputs": [],
   "source": [
    "mc = pymongo.MongoClient()\n",
    "db = mc['bugs']\n",
    "coll = db['comments']\n",
    "coll_reports = db['reports']"
   ]
  },
  {
   "cell_type": "code",
   "execution_count": 9,
   "metadata": {
    "collapsed": false
   },
   "outputs": [
    {
     "name": "stdout",
     "output_type": "stream",
     "text": [
      "inserted 100 rows\n",
      "inserted 200 rows\n",
      "inserted 300 rows\n",
      "inserted 400 rows\n",
      "inserted 500 rows\n",
      "inserted 600 rows\n",
      "inserted 700 rows\n",
      "inserted 800 rows\n",
      "inserted 900 rows\n",
      "inserted 1000 rows\n",
      "inserted 1100 rows\n",
      "inserted 1200 rows\n",
      "inserted 1300 rows\n",
      "inserted 1400 rows\n",
      "inserted 1500 rows\n",
      "inserted 1600 rows\n",
      "inserted 1700 rows\n",
      "inserted 1800 rows\n",
      "inserted 1900 rows\n",
      "inserted 2000 rows\n",
      "inserted 2100 rows\n",
      "inserted 2200 rows\n",
      "inserted 2300 rows\n",
      "inserted 2400 rows\n",
      "inserted 2500 rows\n",
      "inserted 2600 rows\n",
      "inserted 2700 rows\n",
      "inserted 2800 rows\n",
      "inserted 2900 rows\n",
      "inserted 3000 rows\n",
      "inserted 3100 rows\n",
      "inserted 3200 rows\n",
      "inserted 3300 rows\n",
      "inserted 3400 rows\n",
      "inserted 3500 rows\n",
      "inserted 3600 rows\n",
      "inserted 3700 rows\n",
      "inserted 3800 rows\n",
      "inserted 3900 rows\n",
      "inserted 4000 rows\n",
      "inserted 4100 rows\n",
      "inserted 4200 rows\n",
      "inserted 4300 rows\n",
      "inserted 4400 rows\n",
      "inserted 4500 rows\n",
      "inserted 4600 rows\n",
      "inserted 4700 rows\n",
      "inserted 4800 rows\n",
      "inserted 4900 rows\n",
      "inserted 5000 rows\n"
     ]
    }
   ],
   "source": [
    "i = 0\n",
    "for report in coll_reports.find().skip(5000).limit(5000):\n",
    "    bug_id = report['id']\n",
    "    #format to https://bugzilla.mozilla.org/rest/bug/707428/comment\n",
    "    website = 'https://bugzilla.mozilla.org/rest/bug/{:s}/comment'.format(bug_id)\n",
    "    json_content = bson.json_util.loads(requests.get(website).content)\n",
    "    coll.insert_one(dict({'id': bug_id, 'desc': json_content['bugs'][bug_id]['comments'][0]['raw_text']}))\n",
    "    i +=1\n",
    "    if i % 100 == 0:\n",
    "        print \"inserted %s rows\" % str(i)"
   ]
  },
  {
   "cell_type": "code",
   "execution_count": 5,
   "metadata": {
    "collapsed": false
   },
   "outputs": [],
   "source": []
  },
  {
   "cell_type": "code",
   "execution_count": null,
   "metadata": {
    "collapsed": true
   },
   "outputs": [],
   "source": []
  }
 ],
 "metadata": {
  "kernelspec": {
   "display_name": "Python 2",
   "language": "python",
   "name": "python2"
  },
  "language_info": {
   "codemirror_mode": {
    "name": "ipython",
    "version": 2
   },
   "file_extension": ".py",
   "mimetype": "text/x-python",
   "name": "python",
   "nbconvert_exporter": "python",
   "pygments_lexer": "ipython2",
   "version": "2.7.12"
  }
 },
 "nbformat": 4,
 "nbformat_minor": 0
}
