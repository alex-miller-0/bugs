{
 "cells": [
  {
   "cell_type": "code",
   "execution_count": null,
   "metadata": {
    "collapsed": true
   },
   "outputs": [],
   "source": [
    "from __future__ import division\n",
    "import requests\n",
    "import pymongo\n",
    "import bson.json_util"
   ]
  },
  {
   "cell_type": "code",
   "execution_count": null,
   "metadata": {
    "collapsed": true
   },
   "outputs": [],
   "source": [
    "mc = pymongo.MongoClient()\n",
    "db = mc['bugs']\n",
    "coll = db['comments']"
   ]
  },
  {
   "cell_type": "code",
   "execution_count": null,
   "metadata": {
    "collapsed": false
   },
   "outputs": [],
   "source": [
    "bug_id = str(707428) #need to get all ids and run for all\n",
    "\n",
    "for bug_id in [bug_id]:\n",
    "    #format to https://bugzilla.mozilla.org/rest/bug/707428/comment\n",
    "    website = 'https://bugzilla.mozilla.org/rest/bug/{:s}/comment'.format(bug_id)\n",
    "    json_content = bson.json_util.loads(requests.get(website).content)\n",
    "    coll.insert_one(dict({'id': bug_id, 'desc': json_content['bugs'][bug_id]['comments'][0]['raw_text']}))"
   ]
  },
  {
   "cell_type": "code",
   "execution_count": null,
   "metadata": {
    "collapsed": true
   },
   "outputs": [],
   "source": []
  }
 ],
 "metadata": {
  "kernelspec": {
   "display_name": "Python 2",
   "language": "python",
   "name": "python2"
  },
  "language_info": {
   "codemirror_mode": {
    "name": "ipython",
    "version": 2
   },
   "file_extension": ".py",
   "mimetype": "text/x-python",
   "name": "python",
   "nbconvert_exporter": "python",
   "pygments_lexer": "ipython2",
   "version": "2.7.12"
  }
 },
 "nbformat": 4,
 "nbformat_minor": 0
}
