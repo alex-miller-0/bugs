{
 "cells": [
  {
   "cell_type": "code",
   "execution_count": 1,
   "metadata": {
    "collapsed": true
   },
   "outputs": [],
   "source": [
    "from __future__ import division\n",
    "import pymongo\n",
    "import bson.json_util"
   ]
  },
  {
   "cell_type": "code",
   "execution_count": 2,
   "metadata": {
    "collapsed": false
   },
   "outputs": [],
   "source": [
    "data_path = '/Users/lucka/galvanize/msr2013-bug_dataset/data/v02/mozilla/'\n",
    "data_files = ['assigned_to',\n",
    "              'bug_status',\n",
    "              'cc',\n",
    "              'component',\n",
    "              'op_sys',\n",
    "              'priority',\n",
    "              'product',\n",
    "              'reports',\n",
    "              'resolution',\n",
    "              'severity',\n",
    "              'short_desc',\n",
    "              'version']"
   ]
  },
  {
   "cell_type": "code",
   "execution_count": 3,
   "metadata": {
    "collapsed": true
   },
   "outputs": [],
   "source": [
    "mc = pymongo.MongoClient()\n",
    "db = mc['bugs']"
   ]
  },
  {
   "cell_type": "code",
   "execution_count": 4,
   "metadata": {
    "collapsed": false
   },
   "outputs": [
    {
     "name": "stdout",
     "output_type": "stream",
     "text": [
      "processing /Users/lucka/galvanize/msr2013-bug_dataset/data/v02/mozilla/assigned_to.json...\n",
      "processing /Users/lucka/galvanize/msr2013-bug_dataset/data/v02/mozilla/bug_status.json...\n",
      "processing /Users/lucka/galvanize/msr2013-bug_dataset/data/v02/mozilla/cc.json...\n",
      "processing /Users/lucka/galvanize/msr2013-bug_dataset/data/v02/mozilla/component.json...\n",
      "processing /Users/lucka/galvanize/msr2013-bug_dataset/data/v02/mozilla/op_sys.json...\n",
      "processing /Users/lucka/galvanize/msr2013-bug_dataset/data/v02/mozilla/priority.json...\n",
      "processing /Users/lucka/galvanize/msr2013-bug_dataset/data/v02/mozilla/product.json...\n",
      "processing /Users/lucka/galvanize/msr2013-bug_dataset/data/v02/mozilla/reports.json...\n",
      "processing /Users/lucka/galvanize/msr2013-bug_dataset/data/v02/mozilla/resolution.json...\n",
      "processing /Users/lucka/galvanize/msr2013-bug_dataset/data/v02/mozilla/severity.json...\n",
      "processing /Users/lucka/galvanize/msr2013-bug_dataset/data/v02/mozilla/short_desc.json...\n",
      "processing /Users/lucka/galvanize/msr2013-bug_dataset/data/v02/mozilla/version.json...\n"
     ]
    }
   ],
   "source": [
    "for json_file in data_files:\n",
    "    json_path = data_path + json_file + '.json'\n",
    "    coll = db[json_file]\n",
    "    print 'processing %s...' % json_path\n",
    "    with open(json_path,'r') as f:\n",
    "        data = bson.json_util.loads(f.read())\n",
    "        for key, val in data[json_file].iteritems():\n",
    "            if type(val) == dict:\n",
    "                val['id'] = key\n",
    "                coll.insert_one(val)\n",
    "            else: #assuming list, try to explode\n",
    "                for x in val:\n",
    "                    x['id'] = key\n",
    "                coll.insert_many(val)"
   ]
  },
  {
   "cell_type": "code",
   "execution_count": 5,
   "metadata": {
    "collapsed": false
   },
   "outputs": [],
   "source": [
    "#list(coll.find(limit=10))\n",
    "#coll.count()"
   ]
  }
 ],
 "metadata": {
  "kernelspec": {
   "display_name": "Python 2",
   "language": "python",
   "name": "python2"
  },
  "language_info": {
   "codemirror_mode": {
    "name": "ipython",
    "version": 2
   },
   "file_extension": ".py",
   "mimetype": "text/x-python",
   "name": "python",
   "nbconvert_exporter": "python",
   "pygments_lexer": "ipython2",
   "version": "2.7.12"
  }
 },
 "nbformat": 4,
 "nbformat_minor": 0
}
